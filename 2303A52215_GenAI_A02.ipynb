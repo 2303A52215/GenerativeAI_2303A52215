{
  "nbformat": 4,
  "nbformat_minor": 0,
  "metadata": {
    "colab": {
      "provenance": []
    },
    "kernelspec": {
      "name": "python3",
      "display_name": "Python 3"
    },
    "language_info": {
      "name": "python"
    }
  },
  "cells": [
    {
      "cell_type": "code",
      "execution_count": 6,
      "metadata": {
        "colab": {
          "base_uri": "https://localhost:8080/"
        },
        "id": "EEm7U18fSolT",
        "outputId": "59013d96-70d4-42b2-ac05-c3269129e6e3"
      },
      "outputs": [
        {
          "output_type": "stream",
          "name": "stdout",
          "text": [
            "No of A Choclates = 2.00\n",
            "No of B Choclates = 3.00\n"
          ]
        }
      ],
      "source": [
        "from scipy.optimize import linprog\n",
        "import numpy as np\n",
        "obj=[-6,-5]\n",
        "A = [[1, 1], [3, 2]]\n",
        "B = [5, 12]\n",
        "bnd = [(0, float(\"inf\")), (0, float(\"inf\"))]\n",
        "opt = linprog(c=obj, A_ub=A, b_ub=B, bounds=bnd)\n",
        "chac = np.round(opt.x)\n",
        "print(f\"No of A Choclates = {chac[0]:.2f}\")\n",
        "print(f\"No of B Choclates = {chac[1]:.2f}\")\n"
      ]
    }
  ]
}
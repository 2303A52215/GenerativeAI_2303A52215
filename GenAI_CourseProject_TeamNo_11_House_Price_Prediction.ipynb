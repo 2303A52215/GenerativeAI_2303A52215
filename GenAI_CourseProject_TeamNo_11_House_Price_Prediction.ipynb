{
  "cells": [
    {
      "cell_type": "markdown",
      "metadata": {
        "id": "iB7IAoIN_2iK"
      },
      "source": [
        "#Part - 1: Data Preprocessing"
      ]
    },
    {
      "cell_type": "markdown",
      "metadata": {
        "id": "Lcl5ml4oARsX"
      },
      "source": [
        "###**Importing the Dataset**"
      ]
    },
    {
      "cell_type": "code",
      "execution_count": 39,
      "metadata": {
        "id": "BZf3HLZwhwnC"
      },
      "outputs": [],
      "source": [
        "import numpy as np\n",
        "import tensorflow as tf\n",
        "import pandas as pd"
      ]
    },
    {
      "cell_type": "code",
      "execution_count": 40,
      "metadata": {
        "colab": {
          "base_uri": "https://localhost:8080/",
          "height": 35
        },
        "id": "F5GWp3Mkh41M",
        "outputId": "9f99912e-b4dd-4d32-fae8-0a6308ecc1c6"
      },
      "outputs": [
        {
          "output_type": "execute_result",
          "data": {
            "text/plain": [
              "'2.18.0'"
            ],
            "application/vnd.google.colaboratory.intrinsic+json": {
              "type": "string"
            }
          },
          "metadata": {},
          "execution_count": 40
        }
      ],
      "source": [
        "tf.__version__"
      ]
    },
    {
      "cell_type": "code",
      "execution_count": 41,
      "metadata": {
        "colab": {
          "base_uri": "https://localhost:8080/",
          "height": 206
        },
        "id": "xnspm_mOXd6u",
        "outputId": "4d6d00a7-d4ac-433b-82f8-e9194ffdc6e7"
      },
      "outputs": [
        {
          "output_type": "execute_result",
          "data": {
            "text/plain": [
              "      price  area  bedrooms  bathrooms  stories mainroad guestroom basement  \\\n",
              "0  13300000  7420         4          2        3      yes        no       no   \n",
              "1  12250000  8960         4          4        4      yes        no       no   \n",
              "2  12250000  9960         3          2        2      yes        no      yes   \n",
              "3  12215000  7500         4          2        2      yes        no      yes   \n",
              "4  11410000  7420         4          1        2      yes       yes      yes   \n",
              "\n",
              "  hotwaterheating airconditioning  parking prefarea furnishingstatus  \n",
              "0              no             yes        2      yes        furnished  \n",
              "1              no             yes        3       no        furnished  \n",
              "2              no              no        2      yes   semi-furnished  \n",
              "3              no             yes        3      yes        furnished  \n",
              "4              no             yes        2       no        furnished  "
            ],
            "text/html": [
              "\n",
              "  <div id=\"df-8db6f474-3104-4408-b42e-a1901d657db2\" class=\"colab-df-container\">\n",
              "    <div>\n",
              "<style scoped>\n",
              "    .dataframe tbody tr th:only-of-type {\n",
              "        vertical-align: middle;\n",
              "    }\n",
              "\n",
              "    .dataframe tbody tr th {\n",
              "        vertical-align: top;\n",
              "    }\n",
              "\n",
              "    .dataframe thead th {\n",
              "        text-align: right;\n",
              "    }\n",
              "</style>\n",
              "<table border=\"1\" class=\"dataframe\">\n",
              "  <thead>\n",
              "    <tr style=\"text-align: right;\">\n",
              "      <th></th>\n",
              "      <th>price</th>\n",
              "      <th>area</th>\n",
              "      <th>bedrooms</th>\n",
              "      <th>bathrooms</th>\n",
              "      <th>stories</th>\n",
              "      <th>mainroad</th>\n",
              "      <th>guestroom</th>\n",
              "      <th>basement</th>\n",
              "      <th>hotwaterheating</th>\n",
              "      <th>airconditioning</th>\n",
              "      <th>parking</th>\n",
              "      <th>prefarea</th>\n",
              "      <th>furnishingstatus</th>\n",
              "    </tr>\n",
              "  </thead>\n",
              "  <tbody>\n",
              "    <tr>\n",
              "      <th>0</th>\n",
              "      <td>13300000</td>\n",
              "      <td>7420</td>\n",
              "      <td>4</td>\n",
              "      <td>2</td>\n",
              "      <td>3</td>\n",
              "      <td>yes</td>\n",
              "      <td>no</td>\n",
              "      <td>no</td>\n",
              "      <td>no</td>\n",
              "      <td>yes</td>\n",
              "      <td>2</td>\n",
              "      <td>yes</td>\n",
              "      <td>furnished</td>\n",
              "    </tr>\n",
              "    <tr>\n",
              "      <th>1</th>\n",
              "      <td>12250000</td>\n",
              "      <td>8960</td>\n",
              "      <td>4</td>\n",
              "      <td>4</td>\n",
              "      <td>4</td>\n",
              "      <td>yes</td>\n",
              "      <td>no</td>\n",
              "      <td>no</td>\n",
              "      <td>no</td>\n",
              "      <td>yes</td>\n",
              "      <td>3</td>\n",
              "      <td>no</td>\n",
              "      <td>furnished</td>\n",
              "    </tr>\n",
              "    <tr>\n",
              "      <th>2</th>\n",
              "      <td>12250000</td>\n",
              "      <td>9960</td>\n",
              "      <td>3</td>\n",
              "      <td>2</td>\n",
              "      <td>2</td>\n",
              "      <td>yes</td>\n",
              "      <td>no</td>\n",
              "      <td>yes</td>\n",
              "      <td>no</td>\n",
              "      <td>no</td>\n",
              "      <td>2</td>\n",
              "      <td>yes</td>\n",
              "      <td>semi-furnished</td>\n",
              "    </tr>\n",
              "    <tr>\n",
              "      <th>3</th>\n",
              "      <td>12215000</td>\n",
              "      <td>7500</td>\n",
              "      <td>4</td>\n",
              "      <td>2</td>\n",
              "      <td>2</td>\n",
              "      <td>yes</td>\n",
              "      <td>no</td>\n",
              "      <td>yes</td>\n",
              "      <td>no</td>\n",
              "      <td>yes</td>\n",
              "      <td>3</td>\n",
              "      <td>yes</td>\n",
              "      <td>furnished</td>\n",
              "    </tr>\n",
              "    <tr>\n",
              "      <th>4</th>\n",
              "      <td>11410000</td>\n",
              "      <td>7420</td>\n",
              "      <td>4</td>\n",
              "      <td>1</td>\n",
              "      <td>2</td>\n",
              "      <td>yes</td>\n",
              "      <td>yes</td>\n",
              "      <td>yes</td>\n",
              "      <td>no</td>\n",
              "      <td>yes</td>\n",
              "      <td>2</td>\n",
              "      <td>no</td>\n",
              "      <td>furnished</td>\n",
              "    </tr>\n",
              "  </tbody>\n",
              "</table>\n",
              "</div>\n",
              "    <div class=\"colab-df-buttons\">\n",
              "\n",
              "  <div class=\"colab-df-container\">\n",
              "    <button class=\"colab-df-convert\" onclick=\"convertToInteractive('df-8db6f474-3104-4408-b42e-a1901d657db2')\"\n",
              "            title=\"Convert this dataframe to an interactive table.\"\n",
              "            style=\"display:none;\">\n",
              "\n",
              "  <svg xmlns=\"http://www.w3.org/2000/svg\" height=\"24px\" viewBox=\"0 -960 960 960\">\n",
              "    <path d=\"M120-120v-720h720v720H120Zm60-500h600v-160H180v160Zm220 220h160v-160H400v160Zm0 220h160v-160H400v160ZM180-400h160v-160H180v160Zm440 0h160v-160H620v160ZM180-180h160v-160H180v160Zm440 0h160v-160H620v160Z\"/>\n",
              "  </svg>\n",
              "    </button>\n",
              "\n",
              "  <style>\n",
              "    .colab-df-container {\n",
              "      display:flex;\n",
              "      gap: 12px;\n",
              "    }\n",
              "\n",
              "    .colab-df-convert {\n",
              "      background-color: #E8F0FE;\n",
              "      border: none;\n",
              "      border-radius: 50%;\n",
              "      cursor: pointer;\n",
              "      display: none;\n",
              "      fill: #1967D2;\n",
              "      height: 32px;\n",
              "      padding: 0 0 0 0;\n",
              "      width: 32px;\n",
              "    }\n",
              "\n",
              "    .colab-df-convert:hover {\n",
              "      background-color: #E2EBFA;\n",
              "      box-shadow: 0px 1px 2px rgba(60, 64, 67, 0.3), 0px 1px 3px 1px rgba(60, 64, 67, 0.15);\n",
              "      fill: #174EA6;\n",
              "    }\n",
              "\n",
              "    .colab-df-buttons div {\n",
              "      margin-bottom: 4px;\n",
              "    }\n",
              "\n",
              "    [theme=dark] .colab-df-convert {\n",
              "      background-color: #3B4455;\n",
              "      fill: #D2E3FC;\n",
              "    }\n",
              "\n",
              "    [theme=dark] .colab-df-convert:hover {\n",
              "      background-color: #434B5C;\n",
              "      box-shadow: 0px 1px 3px 1px rgba(0, 0, 0, 0.15);\n",
              "      filter: drop-shadow(0px 1px 2px rgba(0, 0, 0, 0.3));\n",
              "      fill: #FFFFFF;\n",
              "    }\n",
              "  </style>\n",
              "\n",
              "    <script>\n",
              "      const buttonEl =\n",
              "        document.querySelector('#df-8db6f474-3104-4408-b42e-a1901d657db2 button.colab-df-convert');\n",
              "      buttonEl.style.display =\n",
              "        google.colab.kernel.accessAllowed ? 'block' : 'none';\n",
              "\n",
              "      async function convertToInteractive(key) {\n",
              "        const element = document.querySelector('#df-8db6f474-3104-4408-b42e-a1901d657db2');\n",
              "        const dataTable =\n",
              "          await google.colab.kernel.invokeFunction('convertToInteractive',\n",
              "                                                    [key], {});\n",
              "        if (!dataTable) return;\n",
              "\n",
              "        const docLinkHtml = 'Like what you see? Visit the ' +\n",
              "          '<a target=\"_blank\" href=https://colab.research.google.com/notebooks/data_table.ipynb>data table notebook</a>'\n",
              "          + ' to learn more about interactive tables.';\n",
              "        element.innerHTML = '';\n",
              "        dataTable['output_type'] = 'display_data';\n",
              "        await google.colab.output.renderOutput(dataTable, element);\n",
              "        const docLink = document.createElement('div');\n",
              "        docLink.innerHTML = docLinkHtml;\n",
              "        element.appendChild(docLink);\n",
              "      }\n",
              "    </script>\n",
              "  </div>\n",
              "\n",
              "\n",
              "<div id=\"df-e1f1829e-c05a-4c99-bd4b-bd1a3d82fc64\">\n",
              "  <button class=\"colab-df-quickchart\" onclick=\"quickchart('df-e1f1829e-c05a-4c99-bd4b-bd1a3d82fc64')\"\n",
              "            title=\"Suggest charts\"\n",
              "            style=\"display:none;\">\n",
              "\n",
              "<svg xmlns=\"http://www.w3.org/2000/svg\" height=\"24px\"viewBox=\"0 0 24 24\"\n",
              "     width=\"24px\">\n",
              "    <g>\n",
              "        <path d=\"M19 3H5c-1.1 0-2 .9-2 2v14c0 1.1.9 2 2 2h14c1.1 0 2-.9 2-2V5c0-1.1-.9-2-2-2zM9 17H7v-7h2v7zm4 0h-2V7h2v10zm4 0h-2v-4h2v4z\"/>\n",
              "    </g>\n",
              "</svg>\n",
              "  </button>\n",
              "\n",
              "<style>\n",
              "  .colab-df-quickchart {\n",
              "      --bg-color: #E8F0FE;\n",
              "      --fill-color: #1967D2;\n",
              "      --hover-bg-color: #E2EBFA;\n",
              "      --hover-fill-color: #174EA6;\n",
              "      --disabled-fill-color: #AAA;\n",
              "      --disabled-bg-color: #DDD;\n",
              "  }\n",
              "\n",
              "  [theme=dark] .colab-df-quickchart {\n",
              "      --bg-color: #3B4455;\n",
              "      --fill-color: #D2E3FC;\n",
              "      --hover-bg-color: #434B5C;\n",
              "      --hover-fill-color: #FFFFFF;\n",
              "      --disabled-bg-color: #3B4455;\n",
              "      --disabled-fill-color: #666;\n",
              "  }\n",
              "\n",
              "  .colab-df-quickchart {\n",
              "    background-color: var(--bg-color);\n",
              "    border: none;\n",
              "    border-radius: 50%;\n",
              "    cursor: pointer;\n",
              "    display: none;\n",
              "    fill: var(--fill-color);\n",
              "    height: 32px;\n",
              "    padding: 0;\n",
              "    width: 32px;\n",
              "  }\n",
              "\n",
              "  .colab-df-quickchart:hover {\n",
              "    background-color: var(--hover-bg-color);\n",
              "    box-shadow: 0 1px 2px rgba(60, 64, 67, 0.3), 0 1px 3px 1px rgba(60, 64, 67, 0.15);\n",
              "    fill: var(--button-hover-fill-color);\n",
              "  }\n",
              "\n",
              "  .colab-df-quickchart-complete:disabled,\n",
              "  .colab-df-quickchart-complete:disabled:hover {\n",
              "    background-color: var(--disabled-bg-color);\n",
              "    fill: var(--disabled-fill-color);\n",
              "    box-shadow: none;\n",
              "  }\n",
              "\n",
              "  .colab-df-spinner {\n",
              "    border: 2px solid var(--fill-color);\n",
              "    border-color: transparent;\n",
              "    border-bottom-color: var(--fill-color);\n",
              "    animation:\n",
              "      spin 1s steps(1) infinite;\n",
              "  }\n",
              "\n",
              "  @keyframes spin {\n",
              "    0% {\n",
              "      border-color: transparent;\n",
              "      border-bottom-color: var(--fill-color);\n",
              "      border-left-color: var(--fill-color);\n",
              "    }\n",
              "    20% {\n",
              "      border-color: transparent;\n",
              "      border-left-color: var(--fill-color);\n",
              "      border-top-color: var(--fill-color);\n",
              "    }\n",
              "    30% {\n",
              "      border-color: transparent;\n",
              "      border-left-color: var(--fill-color);\n",
              "      border-top-color: var(--fill-color);\n",
              "      border-right-color: var(--fill-color);\n",
              "    }\n",
              "    40% {\n",
              "      border-color: transparent;\n",
              "      border-right-color: var(--fill-color);\n",
              "      border-top-color: var(--fill-color);\n",
              "    }\n",
              "    60% {\n",
              "      border-color: transparent;\n",
              "      border-right-color: var(--fill-color);\n",
              "    }\n",
              "    80% {\n",
              "      border-color: transparent;\n",
              "      border-right-color: var(--fill-color);\n",
              "      border-bottom-color: var(--fill-color);\n",
              "    }\n",
              "    90% {\n",
              "      border-color: transparent;\n",
              "      border-bottom-color: var(--fill-color);\n",
              "    }\n",
              "  }\n",
              "</style>\n",
              "\n",
              "  <script>\n",
              "    async function quickchart(key) {\n",
              "      const quickchartButtonEl =\n",
              "        document.querySelector('#' + key + ' button');\n",
              "      quickchartButtonEl.disabled = true;  // To prevent multiple clicks.\n",
              "      quickchartButtonEl.classList.add('colab-df-spinner');\n",
              "      try {\n",
              "        const charts = await google.colab.kernel.invokeFunction(\n",
              "            'suggestCharts', [key], {});\n",
              "      } catch (error) {\n",
              "        console.error('Error during call to suggestCharts:', error);\n",
              "      }\n",
              "      quickchartButtonEl.classList.remove('colab-df-spinner');\n",
              "      quickchartButtonEl.classList.add('colab-df-quickchart-complete');\n",
              "    }\n",
              "    (() => {\n",
              "      let quickchartButtonEl =\n",
              "        document.querySelector('#df-e1f1829e-c05a-4c99-bd4b-bd1a3d82fc64 button');\n",
              "      quickchartButtonEl.style.display =\n",
              "        google.colab.kernel.accessAllowed ? 'block' : 'none';\n",
              "    })();\n",
              "  </script>\n",
              "</div>\n",
              "\n",
              "    </div>\n",
              "  </div>\n"
            ],
            "application/vnd.google.colaboratory.intrinsic+json": {
              "type": "dataframe",
              "variable_name": "data",
              "summary": "{\n  \"name\": \"data\",\n  \"rows\": 545,\n  \"fields\": [\n    {\n      \"column\": \"price\",\n      \"properties\": {\n        \"dtype\": \"number\",\n        \"std\": 1870439,\n        \"min\": 1750000,\n        \"max\": 13300000,\n        \"num_unique_values\": 219,\n        \"samples\": [\n          3773000,\n          5285000,\n          1820000\n        ],\n        \"semantic_type\": \"\",\n        \"description\": \"\"\n      }\n    },\n    {\n      \"column\": \"area\",\n      \"properties\": {\n        \"dtype\": \"number\",\n        \"std\": 2170,\n        \"min\": 1650,\n        \"max\": 16200,\n        \"num_unique_values\": 284,\n        \"samples\": [\n          6000,\n          2684,\n          5360\n        ],\n        \"semantic_type\": \"\",\n        \"description\": \"\"\n      }\n    },\n    {\n      \"column\": \"bedrooms\",\n      \"properties\": {\n        \"dtype\": \"number\",\n        \"std\": 0,\n        \"min\": 1,\n        \"max\": 6,\n        \"num_unique_values\": 6,\n        \"samples\": [\n          4,\n          3,\n          1\n        ],\n        \"semantic_type\": \"\",\n        \"description\": \"\"\n      }\n    },\n    {\n      \"column\": \"bathrooms\",\n      \"properties\": {\n        \"dtype\": \"number\",\n        \"std\": 0,\n        \"min\": 1,\n        \"max\": 4,\n        \"num_unique_values\": 4,\n        \"samples\": [\n          4,\n          3,\n          2\n        ],\n        \"semantic_type\": \"\",\n        \"description\": \"\"\n      }\n    },\n    {\n      \"column\": \"stories\",\n      \"properties\": {\n        \"dtype\": \"number\",\n        \"std\": 0,\n        \"min\": 1,\n        \"max\": 4,\n        \"num_unique_values\": 4,\n        \"samples\": [\n          4,\n          1,\n          3\n        ],\n        \"semantic_type\": \"\",\n        \"description\": \"\"\n      }\n    },\n    {\n      \"column\": \"mainroad\",\n      \"properties\": {\n        \"dtype\": \"category\",\n        \"num_unique_values\": 2,\n        \"samples\": [\n          \"no\",\n          \"yes\"\n        ],\n        \"semantic_type\": \"\",\n        \"description\": \"\"\n      }\n    },\n    {\n      \"column\": \"guestroom\",\n      \"properties\": {\n        \"dtype\": \"category\",\n        \"num_unique_values\": 2,\n        \"samples\": [\n          \"yes\",\n          \"no\"\n        ],\n        \"semantic_type\": \"\",\n        \"description\": \"\"\n      }\n    },\n    {\n      \"column\": \"basement\",\n      \"properties\": {\n        \"dtype\": \"category\",\n        \"num_unique_values\": 2,\n        \"samples\": [\n          \"yes\",\n          \"no\"\n        ],\n        \"semantic_type\": \"\",\n        \"description\": \"\"\n      }\n    },\n    {\n      \"column\": \"hotwaterheating\",\n      \"properties\": {\n        \"dtype\": \"category\",\n        \"num_unique_values\": 2,\n        \"samples\": [\n          \"yes\",\n          \"no\"\n        ],\n        \"semantic_type\": \"\",\n        \"description\": \"\"\n      }\n    },\n    {\n      \"column\": \"airconditioning\",\n      \"properties\": {\n        \"dtype\": \"category\",\n        \"num_unique_values\": 2,\n        \"samples\": [\n          \"no\",\n          \"yes\"\n        ],\n        \"semantic_type\": \"\",\n        \"description\": \"\"\n      }\n    },\n    {\n      \"column\": \"parking\",\n      \"properties\": {\n        \"dtype\": \"number\",\n        \"std\": 0,\n        \"min\": 0,\n        \"max\": 3,\n        \"num_unique_values\": 4,\n        \"samples\": [\n          3,\n          1\n        ],\n        \"semantic_type\": \"\",\n        \"description\": \"\"\n      }\n    },\n    {\n      \"column\": \"prefarea\",\n      \"properties\": {\n        \"dtype\": \"category\",\n        \"num_unique_values\": 2,\n        \"samples\": [\n          \"no\",\n          \"yes\"\n        ],\n        \"semantic_type\": \"\",\n        \"description\": \"\"\n      }\n    },\n    {\n      \"column\": \"furnishingstatus\",\n      \"properties\": {\n        \"dtype\": \"category\",\n        \"num_unique_values\": 3,\n        \"samples\": [\n          \"furnished\",\n          \"semi-furnished\"\n        ],\n        \"semantic_type\": \"\",\n        \"description\": \"\"\n      }\n    }\n  ]\n}"
            }
          },
          "metadata": {},
          "execution_count": 41
        }
      ],
      "source": [
        "data = pd.read_csv('/content/Housing.csv')\n",
        "data.head()"
      ]
    },
    {
      "cell_type": "markdown",
      "metadata": {
        "id": "qSZEA9RSAoER"
      },
      "source": [
        "**Calling Out Features.**"
      ]
    },
    {
      "cell_type": "code",
      "execution_count": 42,
      "metadata": {
        "colab": {
          "base_uri": "https://localhost:8080/"
        },
        "id": "1BoSvbffAjcu",
        "outputId": "2f97c6b4-4b96-4615-8491-b2aefe371c9c"
      },
      "outputs": [
        {
          "output_type": "stream",
          "name": "stdout",
          "text": [
            "price  :  int64\n",
            "area  :  int64\n",
            "bedrooms  :  int64\n",
            "bathrooms  :  int64\n",
            "stories  :  int64\n",
            "mainroad  :  object\n",
            "guestroom  :  object\n",
            "basement  :  object\n",
            "hotwaterheating  :  object\n",
            "airconditioning  :  object\n",
            "parking  :  int64\n",
            "prefarea  :  object\n",
            "furnishingstatus  :  object\n"
          ]
        }
      ],
      "source": [
        "features = data.columns\n",
        "for i in features:\n",
        "    print(i,\" : \",data[i].dtype)"
      ]
    },
    {
      "cell_type": "code",
      "execution_count": 44,
      "metadata": {
        "colab": {
          "base_uri": "https://localhost:8080/"
        },
        "id": "wKXKJj1wLkuk",
        "outputId": "a9f64e9f-1ee1-4c04-a160-dba24ac1720d"
      },
      "outputs": [
        {
          "output_type": "stream",
          "name": "stdout",
          "text": [
            "Unique values in column 'price': [13300000 12250000 12215000 11410000 10850000 10150000  9870000  9800000\n",
            "  9681000  9310000  9240000  9100000  8960000  8890000  8855000  8750000\n",
            "  8680000  8645000  8575000  8540000  8463000  8400000  8295000  8190000\n",
            "  8120000  8080940  8043000  7980000  7962500  7910000  7875000  7840000\n",
            "  7700000  7560000  7525000  7490000  7455000  7420000  7350000  7343000\n",
            "  7245000  7210000  7140000  7070000  7035000  7000000  6930000  6895000\n",
            "  6860000  6790000  6755000  6720000  6685000  6650000  6629000  6615000\n",
            "  6580000  6510000  6475000  6440000  6419000  6405000  6300000  6293000\n",
            "  6265000  6230000  6195000  6160000  6125000  6107500  6090000  6083000\n",
            "  6020000  5950000  5943000  5880000  5873000  5866000  5810000  5803000\n",
            "  5775000  5740000  5652500  5600000  5565000  5530000  5523000  5495000\n",
            "  5460000  5425000  5390000  5383000  5320000  5285000  5250000  5243000\n",
            "  5229000  5215000  5145000  5110000  5075000  5040000  5033000  5005000\n",
            "  4970000  4956000  4935000  4907000  4900000  4893000  4865000  4830000\n",
            "  4795000  4767000  4760000  4753000  4690000  4655000  4620000  4613000\n",
            "  4585000  4550000  4543000  4515000  4480000  4473000  4445000  4410000\n",
            "  4403000  4382000  4375000  4340000  4319000  4305000  4277000  4270000\n",
            "  4235000  4200000  4193000  4165000  4130000  4123000  4098500  4095000\n",
            "  4060000  4025000  4007500  3990000  3920000  3885000  3850000  3836000\n",
            "  3815000  3780000  3773000  3745000  3710000  3703000  3675000  3640000\n",
            "  3633000  3605000  3570000  3535000  3500000  3493000  3465000  3430000\n",
            "  3423000  3395000  3360000  3353000  3332000  3325000  3290000  3255000\n",
            "  3234000  3220000  3150000  3143000  3129000  3118850  3115000  3087000\n",
            "  3080000  3045000  3010000  3003000  2975000  2961000  2940000  2870000\n",
            "  2852500  2835000  2800000  2730000  2695000  2660000  2653000  2604000\n",
            "  2590000  2520000  2485000  2450000  2408000  2380000  2345000  2310000\n",
            "  2275000  2240000  2233000  2135000  2100000  1960000  1890000  1855000\n",
            "  1820000  1767150  1750000]\n",
            "Unique values in column 'area': [ 7420  8960  9960  7500  8580 16200  8100  5750 13200  6000  6550  3500\n",
            "  7800  6600  8500  4600  6420  4320  7155  8050  4560  8800  6540  8875\n",
            "  7950  5500  7475  7000  4880  5960  6840  7482  9000  6360  6480  4300\n",
            "  7440  6325  5150 11440  7680  8880  6240 11175  7700 12090  4000  5020\n",
            "  4040  4260  6500  5700 10500  3760  8250  6670  3960  7410  5000  6750\n",
            "  4800  7200  4100  6400  6350  4500  5450  3240  6615  8372  9620  6800\n",
            "  8000  6900  3700  7020  7231  6254  7320  6525 15600  7160 11460  5828\n",
            "  5200  5400  4640  5800  6660  4700  5136  4400  3300  3650  6100  2817\n",
            "  7980  3150  6210  6825  6710  6450 10269  8400  5300  3800  9800  8520\n",
            "  6050  7085  3180  3410  3000 11410  5720  3540  7600 10700  8150  4410\n",
            "  7686  2800  5948  4200  4520  4095  4120  4770  6300  2970  6720  4646\n",
            " 12900  3420  4995  4350  4160  6040  6862  4815  9166  6321 10240  6440\n",
            "  5170  3630  9667  3745  3880  5680  2870  5010  4510  3840  3640  2550\n",
            "  5320  5360  3520  4990  3510  3450  9860  5885  3162  3750  3968  4900\n",
            "  2880  4920  4950  3900  1905  4075  4032 10360  3400  2175  4360  7770\n",
            "  6650  2787  5040  5850  2610  2953  2747  2325  4079  2145  4840  4080\n",
            "  4046  4632  5985  6060  3600  3680  5600  5900  4992  4340  3460  4050\n",
            "  7260  3290  3816  8080  3780  7152  3850  2015  2176  3350  4820  5830\n",
            "  2856  2520  6930  3480  6020  3584  3120  5640  4280  3570  4130  2850\n",
            "  2275  4240  2135  3036  3990  7424  7350  3512  9500  5880 12944  3060\n",
            "  3185  1950  4785  4960  4750  3720  3100  2700  4775  2500  3792  3930\n",
            "  4370  2684  3986  1650  3069  5495  2398  2160  3090  2835  5076  4352\n",
            "  3660  3040  2640  2650  3934  2000  2430  2910  3210  3635  2475  3264\n",
            "  1836  3970  2400  3360  1700  3649  2990  3620]\n",
            "Unique values in column 'bedrooms': [4 3 5 2 6 1]\n",
            "Unique values in column 'bathrooms': [2 4 1 3]\n",
            "Unique values in column 'stories': [3 4 2 1]\n",
            "Unique values in column 'mainroad': ['yes' 'no']\n",
            "Unique values in column 'guestroom': ['no' 'yes']\n",
            "Unique values in column 'basement': ['no' 'yes']\n",
            "Unique values in column 'hotwaterheating': ['no' 'yes']\n",
            "Unique values in column 'airconditioning': ['yes' 'no']\n",
            "Unique values in column 'parking': [2 3 0 1]\n",
            "Unique values in column 'prefarea': ['yes' 'no']\n",
            "Unique values in column 'furnishingstatus': ['furnished' 'semi-furnished' 'unfurnished']\n"
          ]
        }
      ],
      "source": [
        "unqiue_values = {}\n",
        "for column in data.columns:\n",
        "    unique_values = data[column].unique()\n",
        "    unqiue_values[column] = unique_values\n",
        "    print(f\"Unique values in column '{column}': {unique_values}\")"
      ]
    },
    {
      "cell_type": "code",
      "execution_count": 45,
      "metadata": {
        "id": "8Mt8yoJNiVcD"
      },
      "outputs": [],
      "source": [
        "X = data.drop('price',axis=1).values\n",
        "y = data['price'].values"
      ]
    },
    {
      "cell_type": "code",
      "execution_count": 46,
      "metadata": {
        "colab": {
          "base_uri": "https://localhost:8080/"
        },
        "id": "_WDxaXiFjL-c",
        "outputId": "1b285b6b-0e2b-40a0-e970-8c3fb1eaac7f"
      },
      "outputs": [
        {
          "output_type": "stream",
          "name": "stdout",
          "text": [
            "[[7420 4 2 ... 2 'yes' 'furnished']\n",
            " [8960 4 4 ... 3 'no' 'furnished']\n",
            " [9960 3 2 ... 2 'yes' 'semi-furnished']\n",
            " ...\n",
            " [3620 2 1 ... 0 'no' 'unfurnished']\n",
            " [2910 3 1 ... 0 'no' 'furnished']\n",
            " [3850 3 1 ... 0 'no' 'unfurnished']]\n"
          ]
        },
        {
          "output_type": "execute_result",
          "data": {
            "text/plain": [
              "(545, 12)"
            ]
          },
          "metadata": {},
          "execution_count": 46
        }
      ],
      "source": [
        "print(X)\n",
        "X.shape"
      ]
    },
    {
      "cell_type": "code",
      "execution_count": 47,
      "metadata": {
        "colab": {
          "base_uri": "https://localhost:8080/"
        },
        "id": "3kV7DNb0jPix",
        "outputId": "5be7d21a-71e0-40f6-bfba-391881b57c8e"
      },
      "outputs": [
        {
          "output_type": "stream",
          "name": "stdout",
          "text": [
            "[13300000 12250000 12250000 12215000 11410000 10850000 10150000 10150000\n",
            "  9870000  9800000  9800000  9681000  9310000  9240000  9240000  9100000\n",
            "  9100000  8960000  8890000  8855000  8750000  8680000  8645000  8645000\n",
            "  8575000  8540000  8463000  8400000  8400000  8400000  8400000  8400000\n",
            "  8295000  8190000  8120000  8080940  8043000  7980000  7962500  7910000\n",
            "  7875000  7840000  7700000  7700000  7560000  7560000  7525000  7490000\n",
            "  7455000  7420000  7420000  7420000  7350000  7350000  7350000  7350000\n",
            "  7343000  7245000  7210000  7210000  7140000  7070000  7070000  7035000\n",
            "  7000000  6930000  6930000  6895000  6860000  6790000  6790000  6755000\n",
            "  6720000  6685000  6650000  6650000  6650000  6650000  6650000  6650000\n",
            "  6629000  6615000  6615000  6580000  6510000  6510000  6510000  6475000\n",
            "  6475000  6440000  6440000  6419000  6405000  6300000  6300000  6300000\n",
            "  6300000  6300000  6293000  6265000  6230000  6230000  6195000  6195000\n",
            "  6195000  6160000  6160000  6125000  6107500  6090000  6090000  6090000\n",
            "  6083000  6083000  6020000  6020000  6020000  5950000  5950000  5950000\n",
            "  5950000  5950000  5950000  5950000  5950000  5943000  5880000  5880000\n",
            "  5873000  5873000  5866000  5810000  5810000  5810000  5803000  5775000\n",
            "  5740000  5740000  5740000  5740000  5740000  5652500  5600000  5600000\n",
            "  5600000  5600000  5600000  5600000  5600000  5600000  5600000  5565000\n",
            "  5565000  5530000  5530000  5530000  5523000  5495000  5495000  5460000\n",
            "  5460000  5460000  5460000  5425000  5390000  5383000  5320000  5285000\n",
            "  5250000  5250000  5250000  5250000  5250000  5250000  5250000  5250000\n",
            "  5250000  5243000  5229000  5215000  5215000  5215000  5145000  5145000\n",
            "  5110000  5110000  5110000  5110000  5075000  5040000  5040000  5040000\n",
            "  5040000  5033000  5005000  4970000  4970000  4956000  4935000  4907000\n",
            "  4900000  4900000  4900000  4900000  4900000  4900000  4900000  4900000\n",
            "  4900000  4900000  4900000  4900000  4893000  4893000  4865000  4830000\n",
            "  4830000  4830000  4830000  4795000  4795000  4767000  4760000  4760000\n",
            "  4760000  4753000  4690000  4690000  4690000  4690000  4690000  4690000\n",
            "  4655000  4620000  4620000  4620000  4620000  4620000  4613000  4585000\n",
            "  4585000  4550000  4550000  4550000  4550000  4550000  4550000  4550000\n",
            "  4543000  4543000  4515000  4515000  4515000  4515000  4480000  4480000\n",
            "  4480000  4480000  4480000  4473000  4473000  4473000  4445000  4410000\n",
            "  4410000  4403000  4403000  4403000  4382000  4375000  4340000  4340000\n",
            "  4340000  4340000  4340000  4319000  4305000  4305000  4277000  4270000\n",
            "  4270000  4270000  4270000  4270000  4270000  4235000  4235000  4200000\n",
            "  4200000  4200000  4200000  4200000  4200000  4200000  4200000  4200000\n",
            "  4200000  4200000  4200000  4200000  4200000  4200000  4200000  4200000\n",
            "  4193000  4193000  4165000  4165000  4165000  4130000  4130000  4123000\n",
            "  4098500  4095000  4095000  4095000  4060000  4060000  4060000  4060000\n",
            "  4060000  4025000  4025000  4025000  4007500  4007500  3990000  3990000\n",
            "  3990000  3990000  3990000  3920000  3920000  3920000  3920000  3920000\n",
            "  3920000  3920000  3885000  3885000  3850000  3850000  3850000  3850000\n",
            "  3850000  3850000  3850000  3836000  3815000  3780000  3780000  3780000\n",
            "  3780000  3780000  3780000  3773000  3773000  3773000  3745000  3710000\n",
            "  3710000  3710000  3710000  3710000  3703000  3703000  3675000  3675000\n",
            "  3675000  3675000  3640000  3640000  3640000  3640000  3640000  3640000\n",
            "  3640000  3640000  3640000  3633000  3605000  3605000  3570000  3570000\n",
            "  3570000  3570000  3535000  3500000  3500000  3500000  3500000  3500000\n",
            "  3500000  3500000  3500000  3500000  3500000  3500000  3500000  3500000\n",
            "  3500000  3500000  3500000  3500000  3493000  3465000  3465000  3465000\n",
            "  3430000  3430000  3430000  3430000  3430000  3430000  3423000  3395000\n",
            "  3395000  3395000  3360000  3360000  3360000  3360000  3360000  3360000\n",
            "  3360000  3360000  3353000  3332000  3325000  3325000  3290000  3290000\n",
            "  3290000  3290000  3290000  3290000  3290000  3290000  3255000  3255000\n",
            "  3234000  3220000  3220000  3220000  3220000  3150000  3150000  3150000\n",
            "  3150000  3150000  3150000  3150000  3150000  3150000  3143000  3129000\n",
            "  3118850  3115000  3115000  3115000  3087000  3080000  3080000  3080000\n",
            "  3080000  3045000  3010000  3010000  3010000  3010000  3010000  3010000\n",
            "  3010000  3003000  2975000  2961000  2940000  2940000  2940000  2940000\n",
            "  2940000  2940000  2940000  2940000  2870000  2870000  2870000  2870000\n",
            "  2852500  2835000  2835000  2835000  2800000  2800000  2730000  2730000\n",
            "  2695000  2660000  2660000  2660000  2660000  2660000  2660000  2660000\n",
            "  2653000  2653000  2604000  2590000  2590000  2590000  2520000  2520000\n",
            "  2520000  2485000  2485000  2450000  2450000  2450000  2450000  2450000\n",
            "  2450000  2408000  2380000  2380000  2380000  2345000  2310000  2275000\n",
            "  2275000  2275000  2240000  2233000  2135000  2100000  2100000  2100000\n",
            "  1960000  1890000  1890000  1855000  1820000  1767150  1750000  1750000\n",
            "  1750000]\n"
          ]
        },
        {
          "output_type": "execute_result",
          "data": {
            "text/plain": [
              "(545,)"
            ]
          },
          "metadata": {},
          "execution_count": 47
        }
      ],
      "source": [
        "print(y)\n",
        "y.shape"
      ]
    },
    {
      "cell_type": "markdown",
      "metadata": {
        "id": "bwSTtD0sAV1v"
      },
      "source": [
        "###**Encoding Categorical Dataset**"
      ]
    },
    {
      "cell_type": "markdown",
      "metadata": {
        "id": "iYa-_IctkKz9"
      },
      "source": [
        "**Label Encoding for 'Gender'**"
      ]
    },
    {
      "cell_type": "code",
      "execution_count": 48,
      "metadata": {
        "id": "orNEdHhp_RFy"
      },
      "outputs": [],
      "source": [
        "from sklearn.preprocessing import LabelEncoder\n",
        "le = LabelEncoder()\n",
        "for i in range(X.shape[1]):\n",
        "    if X[:,i].dtype == 'object':\n",
        "        X[:,i] = le.fit_transform(X[:,i])\n",
        "#SYNTAX: le.fit_transform(Data[:, column_index])"
      ]
    },
    {
      "cell_type": "code",
      "execution_count": 49,
      "metadata": {
        "colab": {
          "base_uri": "https://localhost:8080/"
        },
        "id": "nhczEbYTkQTM",
        "outputId": "f6de8dcc-334d-41be-aede-6678b9cf772b"
      },
      "outputs": [
        {
          "output_type": "stream",
          "name": "stdout",
          "text": [
            "[[232 3 1 ... 2 1 0]\n",
            " [260 3 3 ... 3 0 0]\n",
            " [268 2 1 ... 2 1 1]\n",
            " ...\n",
            " [72 1 0 ... 0 0 2]\n",
            " [35 2 0 ... 0 0 0]\n",
            " [90 2 0 ... 0 0 2]]\n"
          ]
        }
      ],
      "source": [
        "print(X)"
      ]
    },
    {
      "cell_type": "code",
      "execution_count": 50,
      "metadata": {
        "colab": {
          "base_uri": "https://localhost:8080/",
          "height": 206
        },
        "id": "YwTnx4vTChBA",
        "outputId": "a29e968d-30b0-4cdb-f2d4-4b805402df91"
      },
      "outputs": [
        {
          "output_type": "execute_result",
          "data": {
            "text/plain": [
              "    0  1  2  3  4  5  6  7  8  9  10 11\n",
              "0  232  3  1  2  1  0  0  0  1  2  1  0\n",
              "1  260  3  3  3  1  0  0  0  1  3  0  0\n",
              "2  268  2  1  1  1  0  1  0  0  2  1  1\n",
              "3  237  3  1  1  1  0  1  0  1  3  1  0\n",
              "4  232  3  0  1  1  1  1  0  1  2  0  0"
            ],
            "text/html": [
              "\n",
              "  <div id=\"df-5974659e-8b2b-4749-a8e2-4c43a153d0f7\" class=\"colab-df-container\">\n",
              "    <div>\n",
              "<style scoped>\n",
              "    .dataframe tbody tr th:only-of-type {\n",
              "        vertical-align: middle;\n",
              "    }\n",
              "\n",
              "    .dataframe tbody tr th {\n",
              "        vertical-align: top;\n",
              "    }\n",
              "\n",
              "    .dataframe thead th {\n",
              "        text-align: right;\n",
              "    }\n",
              "</style>\n",
              "<table border=\"1\" class=\"dataframe\">\n",
              "  <thead>\n",
              "    <tr style=\"text-align: right;\">\n",
              "      <th></th>\n",
              "      <th>0</th>\n",
              "      <th>1</th>\n",
              "      <th>2</th>\n",
              "      <th>3</th>\n",
              "      <th>4</th>\n",
              "      <th>5</th>\n",
              "      <th>6</th>\n",
              "      <th>7</th>\n",
              "      <th>8</th>\n",
              "      <th>9</th>\n",
              "      <th>10</th>\n",
              "      <th>11</th>\n",
              "    </tr>\n",
              "  </thead>\n",
              "  <tbody>\n",
              "    <tr>\n",
              "      <th>0</th>\n",
              "      <td>232</td>\n",
              "      <td>3</td>\n",
              "      <td>1</td>\n",
              "      <td>2</td>\n",
              "      <td>1</td>\n",
              "      <td>0</td>\n",
              "      <td>0</td>\n",
              "      <td>0</td>\n",
              "      <td>1</td>\n",
              "      <td>2</td>\n",
              "      <td>1</td>\n",
              "      <td>0</td>\n",
              "    </tr>\n",
              "    <tr>\n",
              "      <th>1</th>\n",
              "      <td>260</td>\n",
              "      <td>3</td>\n",
              "      <td>3</td>\n",
              "      <td>3</td>\n",
              "      <td>1</td>\n",
              "      <td>0</td>\n",
              "      <td>0</td>\n",
              "      <td>0</td>\n",
              "      <td>1</td>\n",
              "      <td>3</td>\n",
              "      <td>0</td>\n",
              "      <td>0</td>\n",
              "    </tr>\n",
              "    <tr>\n",
              "      <th>2</th>\n",
              "      <td>268</td>\n",
              "      <td>2</td>\n",
              "      <td>1</td>\n",
              "      <td>1</td>\n",
              "      <td>1</td>\n",
              "      <td>0</td>\n",
              "      <td>1</td>\n",
              "      <td>0</td>\n",
              "      <td>0</td>\n",
              "      <td>2</td>\n",
              "      <td>1</td>\n",
              "      <td>1</td>\n",
              "    </tr>\n",
              "    <tr>\n",
              "      <th>3</th>\n",
              "      <td>237</td>\n",
              "      <td>3</td>\n",
              "      <td>1</td>\n",
              "      <td>1</td>\n",
              "      <td>1</td>\n",
              "      <td>0</td>\n",
              "      <td>1</td>\n",
              "      <td>0</td>\n",
              "      <td>1</td>\n",
              "      <td>3</td>\n",
              "      <td>1</td>\n",
              "      <td>0</td>\n",
              "    </tr>\n",
              "    <tr>\n",
              "      <th>4</th>\n",
              "      <td>232</td>\n",
              "      <td>3</td>\n",
              "      <td>0</td>\n",
              "      <td>1</td>\n",
              "      <td>1</td>\n",
              "      <td>1</td>\n",
              "      <td>1</td>\n",
              "      <td>0</td>\n",
              "      <td>1</td>\n",
              "      <td>2</td>\n",
              "      <td>0</td>\n",
              "      <td>0</td>\n",
              "    </tr>\n",
              "  </tbody>\n",
              "</table>\n",
              "</div>\n",
              "    <div class=\"colab-df-buttons\">\n",
              "\n",
              "  <div class=\"colab-df-container\">\n",
              "    <button class=\"colab-df-convert\" onclick=\"convertToInteractive('df-5974659e-8b2b-4749-a8e2-4c43a153d0f7')\"\n",
              "            title=\"Convert this dataframe to an interactive table.\"\n",
              "            style=\"display:none;\">\n",
              "\n",
              "  <svg xmlns=\"http://www.w3.org/2000/svg\" height=\"24px\" viewBox=\"0 -960 960 960\">\n",
              "    <path d=\"M120-120v-720h720v720H120Zm60-500h600v-160H180v160Zm220 220h160v-160H400v160Zm0 220h160v-160H400v160ZM180-400h160v-160H180v160Zm440 0h160v-160H620v160ZM180-180h160v-160H180v160Zm440 0h160v-160H620v160Z\"/>\n",
              "  </svg>\n",
              "    </button>\n",
              "\n",
              "  <style>\n",
              "    .colab-df-container {\n",
              "      display:flex;\n",
              "      gap: 12px;\n",
              "    }\n",
              "\n",
              "    .colab-df-convert {\n",
              "      background-color: #E8F0FE;\n",
              "      border: none;\n",
              "      border-radius: 50%;\n",
              "      cursor: pointer;\n",
              "      display: none;\n",
              "      fill: #1967D2;\n",
              "      height: 32px;\n",
              "      padding: 0 0 0 0;\n",
              "      width: 32px;\n",
              "    }\n",
              "\n",
              "    .colab-df-convert:hover {\n",
              "      background-color: #E2EBFA;\n",
              "      box-shadow: 0px 1px 2px rgba(60, 64, 67, 0.3), 0px 1px 3px 1px rgba(60, 64, 67, 0.15);\n",
              "      fill: #174EA6;\n",
              "    }\n",
              "\n",
              "    .colab-df-buttons div {\n",
              "      margin-bottom: 4px;\n",
              "    }\n",
              "\n",
              "    [theme=dark] .colab-df-convert {\n",
              "      background-color: #3B4455;\n",
              "      fill: #D2E3FC;\n",
              "    }\n",
              "\n",
              "    [theme=dark] .colab-df-convert:hover {\n",
              "      background-color: #434B5C;\n",
              "      box-shadow: 0px 1px 3px 1px rgba(0, 0, 0, 0.15);\n",
              "      filter: drop-shadow(0px 1px 2px rgba(0, 0, 0, 0.3));\n",
              "      fill: #FFFFFF;\n",
              "    }\n",
              "  </style>\n",
              "\n",
              "    <script>\n",
              "      const buttonEl =\n",
              "        document.querySelector('#df-5974659e-8b2b-4749-a8e2-4c43a153d0f7 button.colab-df-convert');\n",
              "      buttonEl.style.display =\n",
              "        google.colab.kernel.accessAllowed ? 'block' : 'none';\n",
              "\n",
              "      async function convertToInteractive(key) {\n",
              "        const element = document.querySelector('#df-5974659e-8b2b-4749-a8e2-4c43a153d0f7');\n",
              "        const dataTable =\n",
              "          await google.colab.kernel.invokeFunction('convertToInteractive',\n",
              "                                                    [key], {});\n",
              "        if (!dataTable) return;\n",
              "\n",
              "        const docLinkHtml = 'Like what you see? Visit the ' +\n",
              "          '<a target=\"_blank\" href=https://colab.research.google.com/notebooks/data_table.ipynb>data table notebook</a>'\n",
              "          + ' to learn more about interactive tables.';\n",
              "        element.innerHTML = '';\n",
              "        dataTable['output_type'] = 'display_data';\n",
              "        await google.colab.output.renderOutput(dataTable, element);\n",
              "        const docLink = document.createElement('div');\n",
              "        docLink.innerHTML = docLinkHtml;\n",
              "        element.appendChild(docLink);\n",
              "      }\n",
              "    </script>\n",
              "  </div>\n",
              "\n",
              "\n",
              "<div id=\"df-1005f040-cfcb-44e8-8169-877ddea240bd\">\n",
              "  <button class=\"colab-df-quickchart\" onclick=\"quickchart('df-1005f040-cfcb-44e8-8169-877ddea240bd')\"\n",
              "            title=\"Suggest charts\"\n",
              "            style=\"display:none;\">\n",
              "\n",
              "<svg xmlns=\"http://www.w3.org/2000/svg\" height=\"24px\"viewBox=\"0 0 24 24\"\n",
              "     width=\"24px\">\n",
              "    <g>\n",
              "        <path d=\"M19 3H5c-1.1 0-2 .9-2 2v14c0 1.1.9 2 2 2h14c1.1 0 2-.9 2-2V5c0-1.1-.9-2-2-2zM9 17H7v-7h2v7zm4 0h-2V7h2v10zm4 0h-2v-4h2v4z\"/>\n",
              "    </g>\n",
              "</svg>\n",
              "  </button>\n",
              "\n",
              "<style>\n",
              "  .colab-df-quickchart {\n",
              "      --bg-color: #E8F0FE;\n",
              "      --fill-color: #1967D2;\n",
              "      --hover-bg-color: #E2EBFA;\n",
              "      --hover-fill-color: #174EA6;\n",
              "      --disabled-fill-color: #AAA;\n",
              "      --disabled-bg-color: #DDD;\n",
              "  }\n",
              "\n",
              "  [theme=dark] .colab-df-quickchart {\n",
              "      --bg-color: #3B4455;\n",
              "      --fill-color: #D2E3FC;\n",
              "      --hover-bg-color: #434B5C;\n",
              "      --hover-fill-color: #FFFFFF;\n",
              "      --disabled-bg-color: #3B4455;\n",
              "      --disabled-fill-color: #666;\n",
              "  }\n",
              "\n",
              "  .colab-df-quickchart {\n",
              "    background-color: var(--bg-color);\n",
              "    border: none;\n",
              "    border-radius: 50%;\n",
              "    cursor: pointer;\n",
              "    display: none;\n",
              "    fill: var(--fill-color);\n",
              "    height: 32px;\n",
              "    padding: 0;\n",
              "    width: 32px;\n",
              "  }\n",
              "\n",
              "  .colab-df-quickchart:hover {\n",
              "    background-color: var(--hover-bg-color);\n",
              "    box-shadow: 0 1px 2px rgba(60, 64, 67, 0.3), 0 1px 3px 1px rgba(60, 64, 67, 0.15);\n",
              "    fill: var(--button-hover-fill-color);\n",
              "  }\n",
              "\n",
              "  .colab-df-quickchart-complete:disabled,\n",
              "  .colab-df-quickchart-complete:disabled:hover {\n",
              "    background-color: var(--disabled-bg-color);\n",
              "    fill: var(--disabled-fill-color);\n",
              "    box-shadow: none;\n",
              "  }\n",
              "\n",
              "  .colab-df-spinner {\n",
              "    border: 2px solid var(--fill-color);\n",
              "    border-color: transparent;\n",
              "    border-bottom-color: var(--fill-color);\n",
              "    animation:\n",
              "      spin 1s steps(1) infinite;\n",
              "  }\n",
              "\n",
              "  @keyframes spin {\n",
              "    0% {\n",
              "      border-color: transparent;\n",
              "      border-bottom-color: var(--fill-color);\n",
              "      border-left-color: var(--fill-color);\n",
              "    }\n",
              "    20% {\n",
              "      border-color: transparent;\n",
              "      border-left-color: var(--fill-color);\n",
              "      border-top-color: var(--fill-color);\n",
              "    }\n",
              "    30% {\n",
              "      border-color: transparent;\n",
              "      border-left-color: var(--fill-color);\n",
              "      border-top-color: var(--fill-color);\n",
              "      border-right-color: var(--fill-color);\n",
              "    }\n",
              "    40% {\n",
              "      border-color: transparent;\n",
              "      border-right-color: var(--fill-color);\n",
              "      border-top-color: var(--fill-color);\n",
              "    }\n",
              "    60% {\n",
              "      border-color: transparent;\n",
              "      border-right-color: var(--fill-color);\n",
              "    }\n",
              "    80% {\n",
              "      border-color: transparent;\n",
              "      border-right-color: var(--fill-color);\n",
              "      border-bottom-color: var(--fill-color);\n",
              "    }\n",
              "    90% {\n",
              "      border-color: transparent;\n",
              "      border-bottom-color: var(--fill-color);\n",
              "    }\n",
              "  }\n",
              "</style>\n",
              "\n",
              "  <script>\n",
              "    async function quickchart(key) {\n",
              "      const quickchartButtonEl =\n",
              "        document.querySelector('#' + key + ' button');\n",
              "      quickchartButtonEl.disabled = true;  // To prevent multiple clicks.\n",
              "      quickchartButtonEl.classList.add('colab-df-spinner');\n",
              "      try {\n",
              "        const charts = await google.colab.kernel.invokeFunction(\n",
              "            'suggestCharts', [key], {});\n",
              "      } catch (error) {\n",
              "        console.error('Error during call to suggestCharts:', error);\n",
              "      }\n",
              "      quickchartButtonEl.classList.remove('colab-df-spinner');\n",
              "      quickchartButtonEl.classList.add('colab-df-quickchart-complete');\n",
              "    }\n",
              "    (() => {\n",
              "      let quickchartButtonEl =\n",
              "        document.querySelector('#df-1005f040-cfcb-44e8-8169-877ddea240bd button');\n",
              "      quickchartButtonEl.style.display =\n",
              "        google.colab.kernel.accessAllowed ? 'block' : 'none';\n",
              "    })();\n",
              "  </script>\n",
              "</div>\n",
              "\n",
              "    </div>\n",
              "  </div>\n"
            ],
            "application/vnd.google.colaboratory.intrinsic+json": {
              "type": "dataframe",
              "variable_name": "X",
              "summary": "{\n  \"name\": \"X\",\n  \"rows\": 545,\n  \"fields\": [\n    {\n      \"column\": 0,\n      \"properties\": {\n        \"dtype\": \"date\",\n        \"min\": 0,\n        \"max\": 283,\n        \"num_unique_values\": 284,\n        \"samples\": [\n          183,\n          24,\n          162\n        ],\n        \"semantic_type\": \"\",\n        \"description\": \"\"\n      }\n    },\n    {\n      \"column\": 1,\n      \"properties\": {\n        \"dtype\": \"date\",\n        \"min\": 0,\n        \"max\": 5,\n        \"num_unique_values\": 6,\n        \"samples\": [\n          3,\n          2,\n          0\n        ],\n        \"semantic_type\": \"\",\n        \"description\": \"\"\n      }\n    },\n    {\n      \"column\": 2,\n      \"properties\": {\n        \"dtype\": \"date\",\n        \"min\": 0,\n        \"max\": 3,\n        \"num_unique_values\": 4,\n        \"samples\": [\n          3,\n          2,\n          1\n        ],\n        \"semantic_type\": \"\",\n        \"description\": \"\"\n      }\n    },\n    {\n      \"column\": 3,\n      \"properties\": {\n        \"dtype\": \"date\",\n        \"min\": 0,\n        \"max\": 3,\n        \"num_unique_values\": 4,\n        \"samples\": [\n          3,\n          0,\n          2\n        ],\n        \"semantic_type\": \"\",\n        \"description\": \"\"\n      }\n    },\n    {\n      \"column\": 4,\n      \"properties\": {\n        \"dtype\": \"date\",\n        \"min\": 0,\n        \"max\": 1,\n        \"num_unique_values\": 2,\n        \"samples\": [\n          0,\n          1\n        ],\n        \"semantic_type\": \"\",\n        \"description\": \"\"\n      }\n    },\n    {\n      \"column\": 5,\n      \"properties\": {\n        \"dtype\": \"date\",\n        \"min\": 0,\n        \"max\": 1,\n        \"num_unique_values\": 2,\n        \"samples\": [\n          1,\n          0\n        ],\n        \"semantic_type\": \"\",\n        \"description\": \"\"\n      }\n    },\n    {\n      \"column\": 6,\n      \"properties\": {\n        \"dtype\": \"date\",\n        \"min\": 0,\n        \"max\": 1,\n        \"num_unique_values\": 2,\n        \"samples\": [\n          1,\n          0\n        ],\n        \"semantic_type\": \"\",\n        \"description\": \"\"\n      }\n    },\n    {\n      \"column\": 7,\n      \"properties\": {\n        \"dtype\": \"date\",\n        \"min\": 0,\n        \"max\": 1,\n        \"num_unique_values\": 2,\n        \"samples\": [\n          1,\n          0\n        ],\n        \"semantic_type\": \"\",\n        \"description\": \"\"\n      }\n    },\n    {\n      \"column\": 8,\n      \"properties\": {\n        \"dtype\": \"date\",\n        \"min\": 0,\n        \"max\": 1,\n        \"num_unique_values\": 2,\n        \"samples\": [\n          0,\n          1\n        ],\n        \"semantic_type\": \"\",\n        \"description\": \"\"\n      }\n    },\n    {\n      \"column\": 9,\n      \"properties\": {\n        \"dtype\": \"date\",\n        \"min\": 0,\n        \"max\": 3,\n        \"num_unique_values\": 4,\n        \"samples\": [\n          3,\n          1\n        ],\n        \"semantic_type\": \"\",\n        \"description\": \"\"\n      }\n    },\n    {\n      \"column\": 10,\n      \"properties\": {\n        \"dtype\": \"date\",\n        \"min\": 0,\n        \"max\": 1,\n        \"num_unique_values\": 2,\n        \"samples\": [\n          0,\n          1\n        ],\n        \"semantic_type\": \"\",\n        \"description\": \"\"\n      }\n    },\n    {\n      \"column\": 11,\n      \"properties\": {\n        \"dtype\": \"date\",\n        \"min\": 0,\n        \"max\": 2,\n        \"num_unique_values\": 3,\n        \"samples\": [\n          0,\n          1\n        ],\n        \"semantic_type\": \"\",\n        \"description\": \"\"\n      }\n    }\n  ]\n}"
            }
          },
          "metadata": {},
          "execution_count": 50
        }
      ],
      "source": [
        "X = pd.DataFrame(X)\n",
        "X.head()"
      ]
    },
    {
      "cell_type": "code",
      "execution_count": 51,
      "metadata": {
        "colab": {
          "base_uri": "https://localhost:8080/"
        },
        "id": "SqrB3YPlBLv0",
        "outputId": "70898337-715a-4c21-cad9-058bef8231ba"
      },
      "outputs": [
        {
          "output_type": "stream",
          "name": "stdout",
          "text": [
            "[232 260 268 237 256 283 249 172 281 183 205 64 243 206 254 130 198 118\n",
            " 224 247 129 257 204 258 244 166 235 220 143 181 216 236 261 196 201 117\n",
            " 234 194 157 276 239 259 190 274 241 278 100 153 102 115 202 170 272 84\n",
            " 251 210 95 231 151 213 139 226 109 197 195 126 164 52 207 252 264 214 246\n",
            " 218 80 221 227 191 229 203 282 225 277 174 159 163 132 173 209 134 156\n",
            " 124 55 77 188 29 245 47 189 215 211 200 270 253 160 87 266 255 186 222 49\n",
            " 59 39 275 171 68 238 273 250 125 240 28 180 113 128 108 110 136 192 37\n",
            " 212 133 279 60 150 120 112 185 217 140 262 193 269 199 158 73 265 82 91\n",
            " 169 33 152 127 89 75 20 161 162 67 148 65 61 267 178 48 83 96 144 34 145\n",
            " 146 92 3 105 101 271 58 10 122 242 208 27 154 176 21 36 26 13 106 8 142\n",
            " 107 103 131 182 187 71 79 167 179 149 119 62 104 228 54 88 248 85 223 90\n",
            " 6 11 56 141 175 32 19 219 63 184 70 46 168 116 69 111 31 12 114 7 40 99\n",
            " 233 230 66 263 177 280 42 50 4 138 147 135 81 45 25 137 18 86 93 123 24\n",
            " 98 0 43 165 14 9 44 30 155 121 78 41 22 23 94 5 16 35 51 74 17 53 2 97 15\n",
            " 57 1 76 38 72]\n",
            "[3 2 4 1 5 0]\n",
            "[1 3 0 2]\n",
            "[2 3 1 0]\n",
            "[1 0]\n",
            "[0 1]\n",
            "[0 1]\n",
            "[0 1]\n",
            "[1 0]\n",
            "[2 3 0 1]\n",
            "[1 0]\n",
            "[0 1 2]\n"
          ]
        }
      ],
      "source": [
        "for column in X.columns:\n",
        "    print(X[column].unique())"
      ]
    },
    {
      "cell_type": "markdown",
      "metadata": {
        "id": "nB5GKC05mZoa"
      },
      "source": [
        "**Splitting the data into Training and Testing Data**"
      ]
    },
    {
      "cell_type": "code",
      "execution_count": 52,
      "metadata": {
        "id": "zgNt3V6tlj6p"
      },
      "outputs": [],
      "source": [
        "from sklearn.model_selection import train_test_split\n",
        "X_train,X_test,y_train,y_test = train_test_split(X,y,test_size=0.2,random_state=0)"
      ]
    },
    {
      "cell_type": "markdown",
      "metadata": {
        "id": "N6xTisGenvzK"
      },
      "source": [
        "**Feature Scaing.**"
      ]
    },
    {
      "cell_type": "code",
      "execution_count": 53,
      "metadata": {
        "id": "wMLFcEELnyUJ"
      },
      "outputs": [],
      "source": [
        "from sklearn.preprocessing import StandardScaler\n",
        "std = StandardScaler()\n",
        "X_train = std.fit_transform(X_train)\n",
        "X_test = std.transform(X_test)\n"
      ]
    },
    {
      "cell_type": "code",
      "execution_count": 54,
      "metadata": {
        "colab": {
          "base_uri": "https://localhost:8080/"
        },
        "id": "zvety_LLoHEZ",
        "outputId": "bf54a387-6002-47ea-b34c-fbdb77b00766"
      },
      "outputs": [
        {
          "output_type": "stream",
          "name": "stdout",
          "text": [
            "[[-0.85800599 -1.29437561 -0.57330726 ... -0.81914879 -0.57028761\n",
            "   1.18364739]\n",
            " [-0.4821974  -1.29437561 -0.57330726 ... -0.81914879 -0.57028761\n",
            "   1.18364739]\n",
            " [-1.27407979 -1.29437561 -0.57330726 ... -0.81914879 -0.57028761\n",
            "   1.18364739]\n",
            " ...\n",
            " [ 0.48416756  0.05251643  1.4755613  ...  0.32555914  1.75350117\n",
            "   1.18364739]\n",
            " [-0.87142773  0.05251643 -0.57330726 ...  0.32555914 -0.57028761\n",
            "   1.18364739]\n",
            " [ 0.94050657  0.05251643 -0.57330726 ... -0.81914879  1.75350117\n",
            "  -1.44936416]]\n"
          ]
        }
      ],
      "source": [
        "print(X_train)"
      ]
    },
    {
      "cell_type": "code",
      "execution_count": 55,
      "metadata": {
        "colab": {
          "base_uri": "https://localhost:8080/"
        },
        "id": "EVEOWzY1oQrK",
        "outputId": "44755a1e-981f-4c78-cb78-cf907f182a2b"
      },
      "outputs": [
        {
          "output_type": "stream",
          "name": "stdout",
          "text": [
            "[[-0.4821974   0.05251643 -0.57330726 ...  0.32555914 -0.57028761\n",
            "  -1.44936416]\n",
            " [ 1.71896722  0.05251643 -0.57330726 ...  1.47026706  1.75350117\n",
            "  -1.44936416]\n",
            " [-0.99222334  1.39940847 -0.57330726 ... -0.81914879 -0.57028761\n",
            "  -0.13285838]\n",
            " ...\n",
            " [ 0.68549359 -1.29437561 -0.57330726 ...  0.32555914 -0.57028761\n",
            "  -0.13285838]\n",
            " [-0.13323227 -1.29437561 -0.57330726 ...  0.32555914 -0.57028761\n",
            "  -0.13285838]\n",
            " [ 0.69891533  0.05251643  1.4755613  ...  1.47026706  1.75350117\n",
            "  -1.44936416]]\n"
          ]
        }
      ],
      "source": [
        "print(X_test)"
      ]
    },
    {
      "cell_type": "markdown",
      "metadata": {
        "id": "rLGRvqu7odmc"
      },
      "source": [
        "#Part - 2: Building the ANN"
      ]
    },
    {
      "cell_type": "markdown",
      "metadata": {
        "id": "c73W3YKXokzX"
      },
      "source": [
        "###**Initialise the ANN.**"
      ]
    },
    {
      "cell_type": "code",
      "execution_count": 56,
      "metadata": {
        "id": "UhYm4G1_oobD"
      },
      "outputs": [],
      "source": [
        "ann = tf.keras.models.Sequential()"
      ]
    },
    {
      "cell_type": "markdown",
      "metadata": {
        "id": "hztYAcwJoo68"
      },
      "source": [
        "###**Adding the input and hidden layer.**"
      ]
    },
    {
      "cell_type": "code",
      "execution_count": 57,
      "metadata": {
        "colab": {
          "base_uri": "https://localhost:8080/"
        },
        "id": "Su5zfV2eowH0",
        "outputId": "f775bc23-81c2-4503-978b-309790bf99d9"
      },
      "outputs": [
        {
          "output_type": "stream",
          "name": "stderr",
          "text": [
            "/usr/local/lib/python3.11/dist-packages/keras/src/layers/core/dense.py:87: UserWarning: Do not pass an `input_shape`/`input_dim` argument to a layer. When using Sequential models, prefer using an `Input(shape)` object as the first layer in the model instead.\n",
            "  super().__init__(activity_regularizer=activity_regularizer, **kwargs)\n"
          ]
        }
      ],
      "source": [
        "ann.add(tf.keras.layers.Dense(units=64, activation='relu', input_shape=(X_train.shape[1],)))  # Input + 1st hidden layer"
      ]
    },
    {
      "cell_type": "code",
      "execution_count": 58,
      "metadata": {
        "id": "lCxdZ5Nrwryf"
      },
      "outputs": [],
      "source": [
        "ann.add(tf.keras.layers.Dense(units=32, activation='relu'))  # 2nd hidden layer"
      ]
    },
    {
      "cell_type": "markdown",
      "metadata": {
        "id": "okRmEOWVowz3"
      },
      "source": [
        "###**Adding the Output Layer.**"
      ]
    },
    {
      "cell_type": "code",
      "execution_count": 59,
      "metadata": {
        "id": "SstFSLIIo2vr"
      },
      "outputs": [],
      "source": [
        "ann.add(tf.keras.layers.Dense(units = 1))"
      ]
    },
    {
      "cell_type": "markdown",
      "metadata": {
        "id": "GijK3WRhyYo7"
      },
      "source": [
        "#Part - 3: Training the ANN"
      ]
    },
    {
      "cell_type": "markdown",
      "metadata": {
        "id": "JG9hZ2KmyYyv"
      },
      "source": [
        "###**Compiling the ANN.**"
      ]
    },
    {
      "cell_type": "code",
      "execution_count": 60,
      "metadata": {
        "colab": {
          "base_uri": "https://localhost:8080/",
          "height": 35
        },
        "id": "ac667BtLyxWj",
        "outputId": "c0cc5eec-451e-43fd-c6f4-7daa4389136b"
      },
      "outputs": [
        {
          "output_type": "execute_result",
          "data": {
            "text/plain": [
              "\"\\n * For binary classification, loss = 'binary_crossentropy'\\n * For non-binary classification, loss = 'categorical_crossentropy'\\n\""
            ],
            "application/vnd.google.colaboratory.intrinsic+json": {
              "type": "string"
            }
          },
          "metadata": {},
          "execution_count": 60
        }
      ],
      "source": [
        "ann.compile(optimizer='adam', loss='mean_squared_error', metrics=['mae'])\n",
        "'''\n",
        " * For binary classification, loss = 'binary_crossentropy'\n",
        " * For non-binary classification, loss = 'categorical_crossentropy'\n",
        "'''"
      ]
    },
    {
      "cell_type": "markdown",
      "metadata": {
        "id": "SPJBA9nHyY6I"
      },
      "source": [
        "###**Training the ANN on the Training set.**"
      ]
    },
    {
      "cell_type": "code",
      "execution_count": 61,
      "metadata": {
        "colab": {
          "base_uri": "https://localhost:8080/"
        },
        "id": "OH4pyloVywuh",
        "outputId": "b3ce8fef-39a4-47e5-dc1e-3d2f938df6b1"
      },
      "outputs": [
        {
          "output_type": "stream",
          "name": "stdout",
          "text": [
            "Epoch 1/100\n",
            "\u001b[1m14/14\u001b[0m \u001b[32m━━━━━━━━━━━━━━━━━━━━\u001b[0m\u001b[37m\u001b[0m \u001b[1m2s\u001b[0m 3ms/step - loss: 24748285231104.0000 - mae: 4650611.0000\n",
            "Epoch 2/100\n",
            "\u001b[1m14/14\u001b[0m \u001b[32m━━━━━━━━━━━━━━━━━━━━\u001b[0m\u001b[37m\u001b[0m \u001b[1m0s\u001b[0m 14ms/step - loss: 26793683714048.0000 - mae: 4826539.5000\n",
            "Epoch 3/100\n",
            "\u001b[1m14/14\u001b[0m \u001b[32m━━━━━━━━━━━━━━━━━━━━\u001b[0m\u001b[37m\u001b[0m \u001b[1m0s\u001b[0m 5ms/step - loss: 27119994273792.0000 - mae: 4839921.5000  \n",
            "Epoch 4/100\n",
            "\u001b[1m14/14\u001b[0m \u001b[32m━━━━━━━━━━━━━━━━━━━━\u001b[0m\u001b[37m\u001b[0m \u001b[1m0s\u001b[0m 4ms/step - loss: 27369532293120.0000 - mae: 4861905.5000 \n",
            "Epoch 5/100\n",
            "\u001b[1m14/14\u001b[0m \u001b[32m━━━━━━━━━━━━━━━━━━━━\u001b[0m\u001b[37m\u001b[0m \u001b[1m0s\u001b[0m 4ms/step - loss: 26364920987648.0000 - mae: 4776383.0000 \n",
            "Epoch 6/100\n",
            "\u001b[1m14/14\u001b[0m \u001b[32m━━━━━━━━━━━━━━━━━━━━\u001b[0m\u001b[37m\u001b[0m \u001b[1m0s\u001b[0m 3ms/step - loss: 25970465570816.0000 - mae: 4730907.0000 \n",
            "Epoch 7/100\n",
            "\u001b[1m14/14\u001b[0m \u001b[32m━━━━━━━━━━━━━━━━━━━━\u001b[0m\u001b[37m\u001b[0m \u001b[1m0s\u001b[0m 3ms/step - loss: 27608475500544.0000 - mae: 4896237.5000 \n",
            "Epoch 8/100\n",
            "\u001b[1m14/14\u001b[0m \u001b[32m━━━━━━━━━━━━━━━━━━━━\u001b[0m\u001b[37m\u001b[0m \u001b[1m0s\u001b[0m 3ms/step - loss: 26453227864064.0000 - mae: 4785127.5000 \n",
            "Epoch 9/100\n",
            "\u001b[1m14/14\u001b[0m \u001b[32m━━━━━━━━━━━━━━━━━━━━\u001b[0m\u001b[37m\u001b[0m \u001b[1m0s\u001b[0m 15ms/step - loss: 25878916497408.0000 - mae: 4695313.5000\n",
            "Epoch 10/100\n",
            "\u001b[1m14/14\u001b[0m \u001b[32m━━━━━━━━━━━━━━━━━━━━\u001b[0m\u001b[37m\u001b[0m \u001b[1m0s\u001b[0m 5ms/step - loss: 25563613888512.0000 - mae: 4689131.0000  \n",
            "Epoch 11/100\n",
            "\u001b[1m14/14\u001b[0m \u001b[32m━━━━━━━━━━━━━━━━━━━━\u001b[0m\u001b[37m\u001b[0m \u001b[1m0s\u001b[0m 3ms/step - loss: 25512049115136.0000 - mae: 4688812.5000 \n",
            "Epoch 12/100\n",
            "\u001b[1m14/14\u001b[0m \u001b[32m━━━━━━━━━━━━━━━━━━━━\u001b[0m\u001b[37m\u001b[0m \u001b[1m0s\u001b[0m 4ms/step - loss: 25507296968704.0000 - mae: 4703949.0000 \n",
            "Epoch 13/100\n",
            "\u001b[1m14/14\u001b[0m \u001b[32m━━━━━━━━━━━━━━━━━━━━\u001b[0m\u001b[37m\u001b[0m \u001b[1m0s\u001b[0m 4ms/step - loss: 25591571021824.0000 - mae: 4696934.5000 \n",
            "Epoch 14/100\n",
            "\u001b[1m14/14\u001b[0m \u001b[32m━━━━━━━━━━━━━━━━━━━━\u001b[0m\u001b[37m\u001b[0m \u001b[1m0s\u001b[0m 3ms/step - loss: 27176594309120.0000 - mae: 4833750.5000 \n",
            "Epoch 15/100\n",
            "\u001b[1m14/14\u001b[0m \u001b[32m━━━━━━━━━━━━━━━━━━━━\u001b[0m\u001b[37m\u001b[0m \u001b[1m0s\u001b[0m 3ms/step - loss: 27586289729536.0000 - mae: 4880083.0000 \n",
            "Epoch 16/100\n",
            "\u001b[1m14/14\u001b[0m \u001b[32m━━━━━━━━━━━━━━━━━━━━\u001b[0m\u001b[37m\u001b[0m \u001b[1m0s\u001b[0m 3ms/step - loss: 26386039308288.0000 - mae: 4738759.0000 \n",
            "Epoch 17/100\n",
            "\u001b[1m14/14\u001b[0m \u001b[32m━━━━━━━━━━━━━━━━━━━━\u001b[0m\u001b[37m\u001b[0m \u001b[1m0s\u001b[0m 4ms/step - loss: 26224636198912.0000 - mae: 4774366.0000 \n",
            "Epoch 18/100\n",
            "\u001b[1m14/14\u001b[0m \u001b[32m━━━━━━━━━━━━━━━━━━━━\u001b[0m\u001b[37m\u001b[0m \u001b[1m0s\u001b[0m 4ms/step - loss: 27568629612544.0000 - mae: 4848374.5000 \n",
            "Epoch 19/100\n",
            "\u001b[1m14/14\u001b[0m \u001b[32m━━━━━━━━━━━━━━━━━━━━\u001b[0m\u001b[37m\u001b[0m \u001b[1m0s\u001b[0m 4ms/step - loss: 26788226924544.0000 - mae: 4798787.0000 \n",
            "Epoch 20/100\n",
            "\u001b[1m14/14\u001b[0m \u001b[32m━━━━━━━━━━━━━━━━━━━━\u001b[0m\u001b[37m\u001b[0m \u001b[1m0s\u001b[0m 4ms/step - loss: 25624680857600.0000 - mae: 4719083.0000 \n",
            "Epoch 21/100\n",
            "\u001b[1m14/14\u001b[0m \u001b[32m━━━━━━━━━━━━━━━━━━━━\u001b[0m\u001b[37m\u001b[0m \u001b[1m0s\u001b[0m 3ms/step - loss: 26677627322368.0000 - mae: 4803271.5000 \n",
            "Epoch 22/100\n",
            "\u001b[1m14/14\u001b[0m \u001b[32m━━━━━━━━━━━━━━━━━━━━\u001b[0m\u001b[37m\u001b[0m \u001b[1m0s\u001b[0m 3ms/step - loss: 25782206332928.0000 - mae: 4689275.5000 \n",
            "Epoch 23/100\n",
            "\u001b[1m14/14\u001b[0m \u001b[32m━━━━━━━━━━━━━━━━━━━━\u001b[0m\u001b[37m\u001b[0m \u001b[1m0s\u001b[0m 4ms/step - loss: 28224253853696.0000 - mae: 4917643.5000 \n",
            "Epoch 24/100\n",
            "\u001b[1m14/14\u001b[0m \u001b[32m━━━━━━━━━━━━━━━━━━━━\u001b[0m\u001b[37m\u001b[0m \u001b[1m0s\u001b[0m 3ms/step - loss: 26986892230656.0000 - mae: 4832337.0000 \n",
            "Epoch 25/100\n",
            "\u001b[1m14/14\u001b[0m \u001b[32m━━━━━━━━━━━━━━━━━━━━\u001b[0m\u001b[37m\u001b[0m \u001b[1m0s\u001b[0m 3ms/step - loss: 27198446632960.0000 - mae: 4823026.5000 \n",
            "Epoch 26/100\n",
            "\u001b[1m14/14\u001b[0m \u001b[32m━━━━━━━━━━━━━━━━━━━━\u001b[0m\u001b[37m\u001b[0m \u001b[1m0s\u001b[0m 3ms/step - loss: 27504689545216.0000 - mae: 4828123.5000 \n",
            "Epoch 27/100\n",
            "\u001b[1m14/14\u001b[0m \u001b[32m━━━━━━━━━━━━━━━━━━━━\u001b[0m\u001b[37m\u001b[0m \u001b[1m0s\u001b[0m 3ms/step - loss: 27413742354432.0000 - mae: 4861641.0000 \n",
            "Epoch 28/100\n",
            "\u001b[1m14/14\u001b[0m \u001b[32m━━━━━━━━━━━━━━━━━━━━\u001b[0m\u001b[37m\u001b[0m \u001b[1m0s\u001b[0m 4ms/step - loss: 26266992377856.0000 - mae: 4789979.0000 \n",
            "Epoch 29/100\n",
            "\u001b[1m14/14\u001b[0m \u001b[32m━━━━━━━━━━━━━━━━━━━━\u001b[0m\u001b[37m\u001b[0m \u001b[1m0s\u001b[0m 6ms/step - loss: 25684967686144.0000 - mae: 4735279.0000 \n",
            "Epoch 30/100\n",
            "\u001b[1m14/14\u001b[0m \u001b[32m━━━━━━━━━━━━━━━━━━━━\u001b[0m\u001b[37m\u001b[0m \u001b[1m0s\u001b[0m 6ms/step - loss: 26482629935104.0000 - mae: 4764539.0000 \n",
            "Epoch 31/100\n",
            "\u001b[1m14/14\u001b[0m \u001b[32m━━━━━━━━━━━━━━━━━━━━\u001b[0m\u001b[37m\u001b[0m \u001b[1m0s\u001b[0m 5ms/step - loss: 26494170562560.0000 - mae: 4785332.5000 \n",
            "Epoch 32/100\n",
            "\u001b[1m14/14\u001b[0m \u001b[32m━━━━━━━━━━━━━━━━━━━━\u001b[0m\u001b[37m\u001b[0m \u001b[1m0s\u001b[0m 5ms/step - loss: 26242120155136.0000 - mae: 4771122.0000 \n",
            "Epoch 33/100\n",
            "\u001b[1m14/14\u001b[0m \u001b[32m━━━━━━━━━━━━━━━━━━━━\u001b[0m\u001b[37m\u001b[0m \u001b[1m0s\u001b[0m 5ms/step - loss: 26800010821632.0000 - mae: 4811564.5000 \n",
            "Epoch 34/100\n",
            "\u001b[1m14/14\u001b[0m \u001b[32m━━━━━━━━━━━━━━━━━━━━\u001b[0m\u001b[37m\u001b[0m \u001b[1m0s\u001b[0m 5ms/step - loss: 25488760242176.0000 - mae: 4716150.5000 \n",
            "Epoch 35/100\n",
            "\u001b[1m14/14\u001b[0m \u001b[32m━━━━━━━━━━━━━━━━━━━━\u001b[0m\u001b[37m\u001b[0m \u001b[1m0s\u001b[0m 5ms/step - loss: 26111610191872.0000 - mae: 4720454.5000 \n",
            "Epoch 36/100\n",
            "\u001b[1m14/14\u001b[0m \u001b[32m━━━━━━━━━━━━━━━━━━━━\u001b[0m\u001b[37m\u001b[0m \u001b[1m0s\u001b[0m 5ms/step - loss: 27331626270720.0000 - mae: 4857838.0000 \n",
            "Epoch 37/100\n",
            "\u001b[1m14/14\u001b[0m \u001b[32m━━━━━━━━━━━━━━━━━━━━\u001b[0m\u001b[37m\u001b[0m \u001b[1m0s\u001b[0m 5ms/step - loss: 26287062122496.0000 - mae: 4754159.5000 \n",
            "Epoch 38/100\n",
            "\u001b[1m14/14\u001b[0m \u001b[32m━━━━━━━━━━━━━━━━━━━━\u001b[0m\u001b[37m\u001b[0m \u001b[1m0s\u001b[0m 5ms/step - loss: 25646061322240.0000 - mae: 4730714.0000 \n",
            "Epoch 39/100\n",
            "\u001b[1m14/14\u001b[0m \u001b[32m━━━━━━━━━━━━━━━━━━━━\u001b[0m\u001b[37m\u001b[0m \u001b[1m0s\u001b[0m 6ms/step - loss: 25633004453888.0000 - mae: 4704030.5000 \n",
            "Epoch 40/100\n",
            "\u001b[1m14/14\u001b[0m \u001b[32m━━━━━━━━━━━━━━━━━━━━\u001b[0m\u001b[37m\u001b[0m \u001b[1m0s\u001b[0m 5ms/step - loss: 25908031258624.0000 - mae: 4729546.5000 \n",
            "Epoch 41/100\n",
            "\u001b[1m14/14\u001b[0m \u001b[32m━━━━━━━━━━━━━━━━━━━━\u001b[0m\u001b[37m\u001b[0m \u001b[1m0s\u001b[0m 5ms/step - loss: 26252891127808.0000 - mae: 4752948.5000 \n",
            "Epoch 42/100\n",
            "\u001b[1m14/14\u001b[0m \u001b[32m━━━━━━━━━━━━━━━━━━━━\u001b[0m\u001b[37m\u001b[0m \u001b[1m0s\u001b[0m 5ms/step - loss: 25369203703808.0000 - mae: 4726173.0000 \n",
            "Epoch 43/100\n",
            "\u001b[1m14/14\u001b[0m \u001b[32m━━━━━━━━━━━━━━━━━━━━\u001b[0m\u001b[37m\u001b[0m \u001b[1m0s\u001b[0m 5ms/step - loss: 25592409882624.0000 - mae: 4713122.5000 \n",
            "Epoch 44/100\n",
            "\u001b[1m14/14\u001b[0m \u001b[32m━━━━━━━━━━━━━━━━━━━━\u001b[0m\u001b[37m\u001b[0m \u001b[1m0s\u001b[0m 6ms/step - loss: 26585350537216.0000 - mae: 4784875.5000 \n",
            "Epoch 45/100\n",
            "\u001b[1m14/14\u001b[0m \u001b[32m━━━━━━━━━━━━━━━━━━━━\u001b[0m\u001b[37m\u001b[0m \u001b[1m0s\u001b[0m 6ms/step - loss: 26191725592576.0000 - mae: 4816650.0000 \n",
            "Epoch 46/100\n",
            "\u001b[1m14/14\u001b[0m \u001b[32m━━━━━━━━━━━━━━━━━━━━\u001b[0m\u001b[37m\u001b[0m \u001b[1m0s\u001b[0m 3ms/step - loss: 27812329160704.0000 - mae: 4896202.0000 \n",
            "Epoch 47/100\n",
            "\u001b[1m14/14\u001b[0m \u001b[32m━━━━━━━━━━━━━━━━━━━━\u001b[0m\u001b[37m\u001b[0m \u001b[1m0s\u001b[0m 3ms/step - loss: 27032704516096.0000 - mae: 4788323.0000 \n",
            "Epoch 48/100\n",
            "\u001b[1m14/14\u001b[0m \u001b[32m━━━━━━━━━━━━━━━━━━━━\u001b[0m\u001b[37m\u001b[0m \u001b[1m0s\u001b[0m 3ms/step - loss: 27200789151744.0000 - mae: 4846661.5000 \n",
            "Epoch 49/100\n",
            "\u001b[1m14/14\u001b[0m \u001b[32m━━━━━━━━━━━━━━━━━━━━\u001b[0m\u001b[37m\u001b[0m \u001b[1m0s\u001b[0m 4ms/step - loss: 28208802037760.0000 - mae: 4868986.0000 \n",
            "Epoch 50/100\n",
            "\u001b[1m14/14\u001b[0m \u001b[32m━━━━━━━━━━━━━━━━━━━━\u001b[0m\u001b[37m\u001b[0m \u001b[1m0s\u001b[0m 4ms/step - loss: 25920519798784.0000 - mae: 4716736.5000 \n",
            "Epoch 51/100\n",
            "\u001b[1m14/14\u001b[0m \u001b[32m━━━━━━━━━━━━━━━━━━━━\u001b[0m\u001b[37m\u001b[0m \u001b[1m0s\u001b[0m 4ms/step - loss: 25953025654784.0000 - mae: 4713996.5000 \n",
            "Epoch 52/100\n",
            "\u001b[1m14/14\u001b[0m \u001b[32m━━━━━━━━━━━━━━━━━━━━\u001b[0m\u001b[37m\u001b[0m \u001b[1m0s\u001b[0m 4ms/step - loss: 27443513524224.0000 - mae: 4848214.0000 \n",
            "Epoch 53/100\n",
            "\u001b[1m14/14\u001b[0m \u001b[32m━━━━━━━━━━━━━━━━━━━━\u001b[0m\u001b[37m\u001b[0m \u001b[1m0s\u001b[0m 4ms/step - loss: 26481960943616.0000 - mae: 4772923.0000 \n",
            "Epoch 54/100\n",
            "\u001b[1m14/14\u001b[0m \u001b[32m━━━━━━━━━━━━━━━━━━━━\u001b[0m\u001b[37m\u001b[0m \u001b[1m0s\u001b[0m 4ms/step - loss: 26681809043456.0000 - mae: 4788804.5000 \n",
            "Epoch 55/100\n",
            "\u001b[1m14/14\u001b[0m \u001b[32m━━━━━━━━━━━━━━━━━━━━\u001b[0m\u001b[37m\u001b[0m \u001b[1m0s\u001b[0m 4ms/step - loss: 26383298330624.0000 - mae: 4764086.0000 \n",
            "Epoch 56/100\n",
            "\u001b[1m14/14\u001b[0m \u001b[32m━━━━━━━━━━━━━━━━━━━━\u001b[0m\u001b[37m\u001b[0m \u001b[1m0s\u001b[0m 3ms/step - loss: 26031528345600.0000 - mae: 4729886.5000 \n",
            "Epoch 57/100\n",
            "\u001b[1m14/14\u001b[0m \u001b[32m━━━━━━━━━━━━━━━━━━━━\u001b[0m\u001b[37m\u001b[0m \u001b[1m0s\u001b[0m 4ms/step - loss: 25687622680576.0000 - mae: 4704454.5000 \n",
            "Epoch 58/100\n",
            "\u001b[1m14/14\u001b[0m \u001b[32m━━━━━━━━━━━━━━━━━━━━\u001b[0m\u001b[37m\u001b[0m \u001b[1m0s\u001b[0m 4ms/step - loss: 27351672946688.0000 - mae: 4851999.5000 \n",
            "Epoch 59/100\n",
            "\u001b[1m14/14\u001b[0m \u001b[32m━━━━━━━━━━━━━━━━━━━━\u001b[0m\u001b[37m\u001b[0m \u001b[1m0s\u001b[0m 4ms/step - loss: 27161572409344.0000 - mae: 4805806.0000 \n",
            "Epoch 60/100\n",
            "\u001b[1m14/14\u001b[0m \u001b[32m━━━━━━━━━━━━━━━━━━━━\u001b[0m\u001b[37m\u001b[0m \u001b[1m0s\u001b[0m 4ms/step - loss: 26220831965184.0000 - mae: 4759753.5000 \n",
            "Epoch 61/100\n",
            "\u001b[1m14/14\u001b[0m \u001b[32m━━━━━━━━━━━━━━━━━━━━\u001b[0m\u001b[37m\u001b[0m \u001b[1m0s\u001b[0m 3ms/step - loss: 26509660127232.0000 - mae: 4773514.5000 \n",
            "Epoch 62/100\n",
            "\u001b[1m14/14\u001b[0m \u001b[32m━━━━━━━━━━━━━━━━━━━━\u001b[0m\u001b[37m\u001b[0m \u001b[1m0s\u001b[0m 4ms/step - loss: 25249223540736.0000 - mae: 4652633.5000 \n",
            "Epoch 63/100\n",
            "\u001b[1m14/14\u001b[0m \u001b[32m━━━━━━━━━━━━━━━━━━━━\u001b[0m\u001b[37m\u001b[0m \u001b[1m0s\u001b[0m 3ms/step - loss: 26120762163200.0000 - mae: 4766417.0000 \n",
            "Epoch 64/100\n",
            "\u001b[1m14/14\u001b[0m \u001b[32m━━━━━━━━━━━━━━━━━━━━\u001b[0m\u001b[37m\u001b[0m \u001b[1m0s\u001b[0m 4ms/step - loss: 27042768748544.0000 - mae: 4828151.0000 \n",
            "Epoch 65/100\n",
            "\u001b[1m14/14\u001b[0m \u001b[32m━━━━━━━━━━━━━━━━━━━━\u001b[0m\u001b[37m\u001b[0m \u001b[1m0s\u001b[0m 4ms/step - loss: 25762352594944.0000 - mae: 4702025.5000 \n",
            "Epoch 66/100\n",
            "\u001b[1m14/14\u001b[0m \u001b[32m━━━━━━━━━━━━━━━━━━━━\u001b[0m\u001b[37m\u001b[0m \u001b[1m0s\u001b[0m 3ms/step - loss: 26540031082496.0000 - mae: 4795227.0000 \n",
            "Epoch 67/100\n",
            "\u001b[1m14/14\u001b[0m \u001b[32m━━━━━━━━━━━━━━━━━━━━\u001b[0m\u001b[37m\u001b[0m \u001b[1m0s\u001b[0m 4ms/step - loss: 25453794426880.0000 - mae: 4723083.0000 \n",
            "Epoch 68/100\n",
            "\u001b[1m14/14\u001b[0m \u001b[32m━━━━━━━━━━━━━━━━━━━━\u001b[0m\u001b[37m\u001b[0m \u001b[1m0s\u001b[0m 3ms/step - loss: 26416343154688.0000 - mae: 4756584.5000 \n",
            "Epoch 69/100\n",
            "\u001b[1m14/14\u001b[0m \u001b[32m━━━━━━━━━━━━━━━━━━━━\u001b[0m\u001b[37m\u001b[0m \u001b[1m0s\u001b[0m 3ms/step - loss: 26509219725312.0000 - mae: 4800180.0000 \n",
            "Epoch 70/100\n",
            "\u001b[1m14/14\u001b[0m \u001b[32m━━━━━━━━━━━━━━━━━━━━\u001b[0m\u001b[37m\u001b[0m \u001b[1m0s\u001b[0m 3ms/step - loss: 27195449802752.0000 - mae: 4815093.0000 \n",
            "Epoch 71/100\n",
            "\u001b[1m14/14\u001b[0m \u001b[32m━━━━━━━━━━━━━━━━━━━━\u001b[0m\u001b[37m\u001b[0m \u001b[1m0s\u001b[0m 4ms/step - loss: 24968746237952.0000 - mae: 4622233.0000 \n",
            "Epoch 72/100\n",
            "\u001b[1m14/14\u001b[0m \u001b[32m━━━━━━━━━━━━━━━━━━━━\u001b[0m\u001b[37m\u001b[0m \u001b[1m0s\u001b[0m 4ms/step - loss: 24541631873024.0000 - mae: 4598228.5000 \n",
            "Epoch 73/100\n",
            "\u001b[1m14/14\u001b[0m \u001b[32m━━━━━━━━━━━━━━━━━━━━\u001b[0m\u001b[37m\u001b[0m \u001b[1m0s\u001b[0m 3ms/step - loss: 26238578065408.0000 - mae: 4741493.0000 \n",
            "Epoch 74/100\n",
            "\u001b[1m14/14\u001b[0m \u001b[32m━━━━━━━━━━━━━━━━━━━━\u001b[0m\u001b[37m\u001b[0m \u001b[1m0s\u001b[0m 3ms/step - loss: 25447588954112.0000 - mae: 4674367.0000 \n",
            "Epoch 75/100\n",
            "\u001b[1m14/14\u001b[0m \u001b[32m━━━━━━━━━━━━━━━━━━━━\u001b[0m\u001b[37m\u001b[0m \u001b[1m0s\u001b[0m 4ms/step - loss: 26602580738048.0000 - mae: 4766342.0000 \n",
            "Epoch 76/100\n",
            "\u001b[1m14/14\u001b[0m \u001b[32m━━━━━━━━━━━━━━━━━━━━\u001b[0m\u001b[37m\u001b[0m \u001b[1m0s\u001b[0m 4ms/step - loss: 28153296715776.0000 - mae: 4909483.0000 \n",
            "Epoch 77/100\n",
            "\u001b[1m14/14\u001b[0m \u001b[32m━━━━━━━━━━━━━━━━━━━━\u001b[0m\u001b[37m\u001b[0m \u001b[1m0s\u001b[0m 3ms/step - loss: 25861065539584.0000 - mae: 4703828.5000 \n",
            "Epoch 78/100\n",
            "\u001b[1m14/14\u001b[0m \u001b[32m━━━━━━━━━━━━━━━━━━━━\u001b[0m\u001b[37m\u001b[0m \u001b[1m0s\u001b[0m 4ms/step - loss: 26921828089856.0000 - mae: 4787260.0000 \n",
            "Epoch 79/100\n",
            "\u001b[1m14/14\u001b[0m \u001b[32m━━━━━━━━━━━━━━━━━━━━\u001b[0m\u001b[37m\u001b[0m \u001b[1m0s\u001b[0m 3ms/step - loss: 26242420047872.0000 - mae: 4766037.5000 \n",
            "Epoch 80/100\n",
            "\u001b[1m14/14\u001b[0m \u001b[32m━━━━━━━━━━━━━━━━━━━━\u001b[0m\u001b[37m\u001b[0m \u001b[1m0s\u001b[0m 4ms/step - loss: 26389627535360.0000 - mae: 4758393.5000 \n",
            "Epoch 81/100\n",
            "\u001b[1m14/14\u001b[0m \u001b[32m━━━━━━━━━━━━━━━━━━━━\u001b[0m\u001b[37m\u001b[0m \u001b[1m0s\u001b[0m 4ms/step - loss: 25785563873280.0000 - mae: 4747385.5000 \n",
            "Epoch 82/100\n",
            "\u001b[1m14/14\u001b[0m \u001b[32m━━━━━━━━━━━━━━━━━━━━\u001b[0m\u001b[37m\u001b[0m \u001b[1m0s\u001b[0m 3ms/step - loss: 27723110023168.0000 - mae: 4910732.0000 \n",
            "Epoch 83/100\n",
            "\u001b[1m14/14\u001b[0m \u001b[32m━━━━━━━━━━━━━━━━━━━━\u001b[0m\u001b[37m\u001b[0m \u001b[1m0s\u001b[0m 4ms/step - loss: 26534433783808.0000 - mae: 4773245.0000 \n",
            "Epoch 84/100\n",
            "\u001b[1m14/14\u001b[0m \u001b[32m━━━━━━━━━━━━━━━━━━━━\u001b[0m\u001b[37m\u001b[0m \u001b[1m0s\u001b[0m 4ms/step - loss: 26477428998144.0000 - mae: 4792395.5000 \n",
            "Epoch 85/100\n",
            "\u001b[1m14/14\u001b[0m \u001b[32m━━━━━━━━━━━━━━━━━━━━\u001b[0m\u001b[37m\u001b[0m \u001b[1m0s\u001b[0m 4ms/step - loss: 26751732285440.0000 - mae: 4799286.5000 \n",
            "Epoch 86/100\n",
            "\u001b[1m14/14\u001b[0m \u001b[32m━━━━━━━━━━━━━━━━━━━━\u001b[0m\u001b[37m\u001b[0m \u001b[1m0s\u001b[0m 4ms/step - loss: 24631188652032.0000 - mae: 4608615.0000 \n",
            "Epoch 87/100\n",
            "\u001b[1m14/14\u001b[0m \u001b[32m━━━━━━━━━━━━━━━━━━━━\u001b[0m\u001b[37m\u001b[0m \u001b[1m0s\u001b[0m 3ms/step - loss: 25284784947200.0000 - mae: 4687346.5000 \n",
            "Epoch 88/100\n",
            "\u001b[1m14/14\u001b[0m \u001b[32m━━━━━━━━━━━━━━━━━━━━\u001b[0m\u001b[37m\u001b[0m \u001b[1m0s\u001b[0m 3ms/step - loss: 27493478170624.0000 - mae: 4841388.5000 \n",
            "Epoch 89/100\n",
            "\u001b[1m14/14\u001b[0m \u001b[32m━━━━━━━━━━━━━━━━━━━━\u001b[0m\u001b[37m\u001b[0m \u001b[1m0s\u001b[0m 4ms/step - loss: 25521373052928.0000 - mae: 4700756.5000 \n",
            "Epoch 90/100\n",
            "\u001b[1m14/14\u001b[0m \u001b[32m━━━━━━━━━━━━━━━━━━━━\u001b[0m\u001b[37m\u001b[0m \u001b[1m0s\u001b[0m 4ms/step - loss: 25584587505664.0000 - mae: 4703369.5000 \n",
            "Epoch 91/100\n",
            "\u001b[1m14/14\u001b[0m \u001b[32m━━━━━━━━━━━━━━━━━━━━\u001b[0m\u001b[37m\u001b[0m \u001b[1m0s\u001b[0m 3ms/step - loss: 25870408351744.0000 - mae: 4757539.5000 \n",
            "Epoch 92/100\n",
            "\u001b[1m14/14\u001b[0m \u001b[32m━━━━━━━━━━━━━━━━━━━━\u001b[0m\u001b[37m\u001b[0m \u001b[1m0s\u001b[0m 3ms/step - loss: 27877854674944.0000 - mae: 4866131.5000 \n",
            "Epoch 93/100\n",
            "\u001b[1m14/14\u001b[0m \u001b[32m━━━━━━━━━━━━━━━━━━━━\u001b[0m\u001b[37m\u001b[0m \u001b[1m0s\u001b[0m 3ms/step - loss: 25707577081856.0000 - mae: 4703586.0000 \n",
            "Epoch 94/100\n",
            "\u001b[1m14/14\u001b[0m \u001b[32m━━━━━━━━━━━━━━━━━━━━\u001b[0m\u001b[37m\u001b[0m \u001b[1m0s\u001b[0m 4ms/step - loss: 25075019415552.0000 - mae: 4686367.5000 \n",
            "Epoch 95/100\n",
            "\u001b[1m14/14\u001b[0m \u001b[32m━━━━━━━━━━━━━━━━━━━━\u001b[0m\u001b[37m\u001b[0m \u001b[1m0s\u001b[0m 4ms/step - loss: 24850607374336.0000 - mae: 4643618.5000 \n",
            "Epoch 96/100\n",
            "\u001b[1m14/14\u001b[0m \u001b[32m━━━━━━━━━━━━━━━━━━━━\u001b[0m\u001b[37m\u001b[0m \u001b[1m0s\u001b[0m 4ms/step - loss: 24808903409664.0000 - mae: 4614615.0000 \n",
            "Epoch 97/100\n",
            "\u001b[1m14/14\u001b[0m \u001b[32m━━━━━━━━━━━━━━━━━━━━\u001b[0m\u001b[37m\u001b[0m \u001b[1m0s\u001b[0m 4ms/step - loss: 25541797216256.0000 - mae: 4702185.0000 \n",
            "Epoch 98/100\n",
            "\u001b[1m14/14\u001b[0m \u001b[32m━━━━━━━━━━━━━━━━━━━━\u001b[0m\u001b[37m\u001b[0m \u001b[1m0s\u001b[0m 4ms/step - loss: 25065880027136.0000 - mae: 4678180.5000 \n",
            "Epoch 99/100\n",
            "\u001b[1m14/14\u001b[0m \u001b[32m━━━━━━━━━━━━━━━━━━━━\u001b[0m\u001b[37m\u001b[0m \u001b[1m0s\u001b[0m 4ms/step - loss: 27035246264320.0000 - mae: 4822542.0000 \n",
            "Epoch 100/100\n",
            "\u001b[1m14/14\u001b[0m \u001b[32m━━━━━━━━━━━━━━━━━━━━\u001b[0m\u001b[37m\u001b[0m \u001b[1m0s\u001b[0m 4ms/step - loss: 26776428347392.0000 - mae: 4803640.0000 \n"
          ]
        },
        {
          "output_type": "execute_result",
          "data": {
            "text/plain": [
              "<keras.src.callbacks.history.History at 0x797aaaa5c0d0>"
            ]
          },
          "metadata": {},
          "execution_count": 61
        }
      ],
      "source": [
        "ann.fit(X_train, y_train, batch_size=32, epochs=100)"
      ]
    },
    {
      "cell_type": "markdown",
      "metadata": {
        "id": "GgJm-FTYLW-1"
      },
      "source": [
        "**Fill details for price prediction:**"
      ]
    },
    {
      "cell_type": "code",
      "execution_count": 62,
      "metadata": {
        "colab": {
          "base_uri": "https://localhost:8080/"
        },
        "id": "Il1nJ3lELds3",
        "outputId": "e8d1282f-d459-453e-c76a-d5130a94c6df"
      },
      "outputs": [
        {
          "name": "stdout",
          "output_type": "stream",
          "text": [
            "\n",
            "--- Start entering house details ---\n",
            "Enter the area of the house (in sqft): 8000\n",
            "Enter the number of bedrooms: 3\n",
            "Enter the number of bathrooms: 4\n",
            "Enter the number of stories: 4\n",
            "Enter the number of parking spaces: 3\n",
            "Is your house connected to the main road? (yes/no): yes\n",
            "Does your house have a guest room? (yes/no): yes\n",
            "Does your house have a basement? (yes/no): yes\n",
            "Does your house have hot water heating? (yes/no): yes\n",
            "Does your house have air conditioning? (yes/no): yes\n",
            "Is your house in a preferred area? (yes/no): yes\n",
            "Furnishing status? (furnished / semi-furnished / unfurnished): furnished\n",
            "\n",
            "✅ Final Scaled and Encoded Feature Vector:\n",
            "[np.float64(0.0), np.float64(0.0), np.float64(0.0), np.float64(0.0), np.float64(0.0), np.int64(0), np.int64(0), np.int64(0), np.int64(0), np.int64(0), np.int64(0), np.int64(0)]\n",
            "\n",
            "Do you want to enter another house? (yes/no): no\n"
          ]
        }
      ],
      "source": [
        "from sklearn.preprocessing import LabelEncoder, StandardScaler\n",
        "\n",
        "while True:\n",
        "    print(\"\\n--- Start entering house details ---\")\n",
        "\n",
        "    # Collect numeric inputs\n",
        "    area = int(input(\"Enter the area of the house (in sqft): \"))\n",
        "    bedrooms = int(input(\"Enter the number of bedrooms: \"))\n",
        "    bathrooms = int(input(\"Enter the number of bathrooms: \"))\n",
        "    stories = int(input(\"Enter the number of stories: \"))\n",
        "    parking = int(input(\"Enter the number of parking spaces: \"))\n",
        "\n",
        "    # Collect categorical inputs\n",
        "    mainroad = input(\"Is your house connected to the main road? (yes/no): \").lower()\n",
        "    guestroom = input(\"Does your house have a guest room? (yes/no): \").lower()\n",
        "    basement = input(\"Does your house have a basement? (yes/no): \").lower()\n",
        "    hotwaterheating = input(\"Does your house have hot water heating? (yes/no): \").lower()\n",
        "    airconditioning = input(\"Does your house have air conditioning? (yes/no): \").lower()\n",
        "    prefarea = input(\"Is your house in a preferred area? (yes/no): \").lower()\n",
        "    furnishingstatus = input(\"Furnishing status? (furnished / semi-furnished / unfurnished): \").lower()\n",
        "\n",
        "    # --- Preprocessing ---\n",
        "    # Scale numericals\n",
        "    numerical_data = [[area, bedrooms, bathrooms, stories, parking]]\n",
        "    scaler = StandardScaler()\n",
        "    scaled_numericals = scaler.fit_transform(numerical_data)\n",
        "\n",
        "    # Encode categoricals\n",
        "    le = LabelEncoder()\n",
        "    le_mainroad = le.fit_transform([mainroad])[0]\n",
        "    le_guestroom = le.fit_transform([guestroom])[0]\n",
        "    le_basement = le.fit_transform([basement])[0]\n",
        "    le_hotwaterheating = le.fit_transform([hotwaterheating])[0]\n",
        "    le_airconditioning = le.fit_transform([airconditioning])[0]\n",
        "    le_prefarea = le.fit_transform([prefarea])[0]\n",
        "    le_furnishingstatus = le.fit_transform([furnishingstatus])[0]\n",
        "\n",
        "    # Combine features\n",
        "    final_features = list(scaled_numericals[0]) + [\n",
        "        le_mainroad,\n",
        "        le_guestroom,\n",
        "        le_basement,\n",
        "        le_hotwaterheating,\n",
        "        le_airconditioning,\n",
        "        le_prefarea,\n",
        "        le_furnishingstatus\n",
        "    ]\n",
        "\n",
        "    print(\"\\n✅ Final Scaled and Encoded Feature Vector:\")\n",
        "    print(final_features)\n",
        "\n",
        "    again = input(\"\\nDo you want to enter another house? (yes/no): \").lower()\n",
        "    if again != 'yes':\n",
        "        break"
      ]
    },
    {
      "cell_type": "markdown",
      "metadata": {
        "id": "y4oZ1oeGOKff"
      },
      "source": [
        "**Label Encode the house details**"
      ]
    },
    {
      "cell_type": "markdown",
      "metadata": {
        "id": "CK0hiFRkTAC6"
      },
      "source": [
        "#**Part - 4 : Predicting and Evaluating the model**"
      ]
    },
    {
      "cell_type": "markdown",
      "metadata": {
        "id": "TtiMQSQXTNVP"
      },
      "source": [
        "###**Predicting the result.**"
      ]
    },
    {
      "cell_type": "code",
      "execution_count": 63,
      "metadata": {
        "colab": {
          "base_uri": "https://localhost:8080/"
        },
        "id": "wKf09lX2Rw5J",
        "outputId": "113cd30e-c0a8-4fec-9c5a-976a3576c730"
      },
      "outputs": [
        {
          "output_type": "stream",
          "name": "stdout",
          "text": [
            "\u001b[1m1/1\u001b[0m \u001b[32m━━━━━━━━━━━━━━━━━━━━\u001b[0m\u001b[37m\u001b[0m \u001b[1m0s\u001b[0m 71ms/step\n",
            "Prediction: [[1334791.1]]\n"
          ]
        }
      ],
      "source": [
        "# Ensure the correct order for the prediction input:\n",
        "input_data = [[\n",
        "    scaled_numericals[0][0],  # area (scaled)\n",
        "    scaled_numericals[0][1],  # bedrooms (scaled)\n",
        "    scaled_numericals[0][2],  # bathrooms (scaled)\n",
        "    scaled_numericals[0][3],  # stories (scaled)\n",
        "    le_mainroad,           # mainroad (encoded) # Removed [0] since le_mainroad is already an integer\n",
        "    le_guestroom,          # guestroom (encoded) # Removed [0] since le_guestroom is already an integer\n",
        "    le_basement,           # basement (encoded) # Removed [0] since le_basement is already an integer\n",
        "    le_hotwaterheating,    # hotwaterheating (encoded) # Removed [0] since le_hotwaterheating is already an integer\n",
        "    le_airconditioning,    # airconditioning (encoded) # Removed [0] since le_airconditioning is already an integer\n",
        "    scaled_numericals[0][4],  # parking (scaled)\n",
        "    le_prefarea,           # prefarea (encoded) # Removed [0] since le_prefarea is already an integer\n",
        "    le_furnishingstatus    # furnishingstatus (encoded) # Removed [0] since le_furnishingstatus is already an integer\n",
        "]]\n",
        "\n",
        "# Make the prediction\n",
        "prediction = ann.predict(std.transform(input_data))\n",
        "\n",
        "# Output the prediction\n",
        "print(\"Prediction:\", prediction*100)"
      ]
    },
    {
      "cell_type": "markdown",
      "metadata": {
        "id": "0ded190c"
      },
      "source": [
        "## 🔍 Model Comparison: Linear, Ridge, Lasso, KNN, SVM"
      ]
    },
    {
      "cell_type": "code",
      "source": [
        "from sklearn.linear_model import LinearRegression, Ridge, Lasso\n",
        "from sklearn.svm import SVR\n",
        "from sklearn.neighbors import KNeighborsRegressor\n",
        "from sklearn.metrics import mean_squared_error, mean_absolute_error\n",
        "from sklearn.model_selection import train_test_split\n",
        "from tensorflow.keras.models import Sequential\n",
        "from tensorflow.keras.layers import Dense\n",
        "import matplotlib.pyplot as plt\n",
        "import pandas as pd\n",
        "import numpy as np\n",
        "\n",
        "# Ensure numeric type\n",
        "X_train = X_train.astype(float)\n",
        "X_test = X_test.astype(float)\n",
        "y_train = y_train.astype(float)\n",
        "y_test = y_test.astype(float)\n",
        "\n",
        "# Traditional models\n",
        "models = {\n",
        "    'Linear Regression': LinearRegression(),\n",
        "    'Ridge Regression': Ridge(),\n",
        "    'Lasso Regression': Lasso(),\n",
        "    'KNN Regressor': KNeighborsRegressor(),\n",
        "    'SVR': SVR()\n",
        "}\n",
        "\n",
        "results = {}\n",
        "\n",
        "for name, model in models.items():\n",
        "    model.fit(X_train, y_train)\n",
        "    y_pred = model.predict(X_test)\n",
        "    mse = mean_squared_error(y_test, y_pred)\n",
        "    mae = mean_absolute_error(y_test, y_pred)\n",
        "    rmse = np.sqrt(mse)\n",
        "    results[name] = {'MSE': mse, 'MAE': mae, 'RMSE': rmse}\n",
        "\n",
        "# ANN model\n",
        "ann = Sequential()\n",
        "ann.add(Dense(64, activation='relu', input_shape=(X_train.shape[1],)))\n",
        "ann.add(Dense(64, activation='relu'))\n",
        "ann.add(Dense(1))\n",
        "ann.compile(optimizer='adam', loss='mse')\n",
        "ann.fit(X_train, y_train, epochs=100, batch_size=32, verbose=0)\n",
        "\n",
        "y_pred_ann = ann.predict(X_test).flatten()\n",
        "mse = mean_squared_error(y_test, y_pred_ann)\n",
        "mae = mean_absolute_error(y_test, y_pred_ann)\n",
        "rmse = np.sqrt(mse)\n",
        "results['ANN'] = {'MSE': mse, 'MAE': mae, 'RMSE': rmse}\n",
        "\n",
        "# Plotting metrics\n",
        "metrics = ['MSE', 'MAE', 'RMSE']\n",
        "for metric in metrics:\n",
        "    plt.figure(figsize=(8, 4))\n",
        "    plt.bar(results.keys(), [results[m][metric] for m in results], color='skyblue')\n",
        "    plt.title(f'Model Comparison - {metric}')\n",
        "    plt.ylabel(metric)\n",
        "    plt.xticks(rotation=45)\n",
        "    plt.tight_layout()\n",
        "    plt.show()\n",
        "\n",
        "# Print comparison results\n",
        "df_results = pd.DataFrame(results).T\n",
        "print(df_results)\n"
      ],
      "metadata": {
        "id": "S1_E3lG7hCoF",
        "colab": {
          "base_uri": "https://localhost:8080/",
          "height": 1000
        },
        "outputId": "f4cf006b-3aee-49a8-eb68-105dc2619b07"
      },
      "execution_count": 64,
      "outputs": [
        {
          "output_type": "stream",
          "name": "stderr",
          "text": [
            "/usr/local/lib/python3.11/dist-packages/keras/src/layers/core/dense.py:87: UserWarning: Do not pass an `input_shape`/`input_dim` argument to a layer. When using Sequential models, prefer using an `Input(shape)` object as the first layer in the model instead.\n",
            "  super().__init__(activity_regularizer=activity_regularizer, **kwargs)\n",
            "WARNING:tensorflow:5 out of the last 8 calls to <function TensorFlowTrainer.make_predict_function.<locals>.one_step_on_data_distributed at 0x797aa8c34fe0> triggered tf.function retracing. Tracing is expensive and the excessive number of tracings could be due to (1) creating @tf.function repeatedly in a loop, (2) passing tensors with different shapes, (3) passing Python objects instead of tensors. For (1), please define your @tf.function outside of the loop. For (2), @tf.function has reduce_retracing=True option that can avoid unnecessary retracing. For (3), please refer to https://www.tensorflow.org/guide/function#controlling_retracing and https://www.tensorflow.org/api_docs/python/tf/function for  more details.\n"
          ]
        },
        {
          "output_type": "stream",
          "name": "stdout",
          "text": [
            "\r\u001b[1m1/4\u001b[0m \u001b[32m━━━━━\u001b[0m\u001b[37m━━━━━━━━━━━━━━━\u001b[0m \u001b[1m0s\u001b[0m 71ms/step"
          ]
        },
        {
          "output_type": "stream",
          "name": "stderr",
          "text": [
            "WARNING:tensorflow:6 out of the last 11 calls to <function TensorFlowTrainer.make_predict_function.<locals>.one_step_on_data_distributed at 0x797aa8c34fe0> triggered tf.function retracing. Tracing is expensive and the excessive number of tracings could be due to (1) creating @tf.function repeatedly in a loop, (2) passing tensors with different shapes, (3) passing Python objects instead of tensors. For (1), please define your @tf.function outside of the loop. For (2), @tf.function has reduce_retracing=True option that can avoid unnecessary retracing. For (3), please refer to https://www.tensorflow.org/guide/function#controlling_retracing and https://www.tensorflow.org/api_docs/python/tf/function for  more details.\n"
          ]
        },
        {
          "output_type": "stream",
          "name": "stdout",
          "text": [
            "\u001b[1m4/4\u001b[0m \u001b[32m━━━━━━━━━━━━━━━━━━━━\u001b[0m\u001b[37m\u001b[0m \u001b[1m0s\u001b[0m 27ms/step\n"
          ]
        },
        {
          "output_type": "display_data",
          "data": {
            "text/plain": [
              "<Figure size 800x400 with 1 Axes>"
            ],
            "image/png": "[encoded data removed]"
          },
          "metadata": {}
        },
        {
          "output_type": "display_data",
          "data": {
            "text/plain": [
              "<Figure size 800x400 with 1 Axes>"
            ],
            "image/png": "[encoded data removed]"
          },
          "metadata": {}
        },
        {
          "output_type": "display_data",
          "data": {
            "text/plain": [
              "<Figure size 800x400 with 1 Axes>"
            ],
            "image/png": "[encoded data removed]"
          },
          "metadata": {}
        },
        {
          "output_type": "stream",
          "name": "stdout",
          "text": [
            "                            MSE           MAE          RMSE\n",
            "Linear Regression  9.264922e+11  6.935954e+05  9.625446e+05\n",
            "Ridge Regression   9.258880e+11  6.932076e+05  9.622308e+05\n",
            "Lasso Regression   9.264912e+11  6.935949e+05  9.625441e+05\n",
            "KNN Regressor      1.093279e+12  7.298388e+05  1.045600e+06\n",
            "SVR                3.000211e+12  1.259216e+06  1.732112e+06\n",
            "ANN                2.426341e+13  4.645928e+06  4.925790e+06\n"
          ]
        }
      ]
    }
  ],
  "metadata": {
    "colab": {
      "provenance": []
    },
    "kernelspec": {
      "display_name": "Python 3",
      "name": "python3"
    },
    "language_info": {
      "name": "python"
    }
  },
  "nbformat": 4,
  "nbformat_minor": 0
}